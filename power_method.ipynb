{
 "cells": [
  {
   "cell_type": "markdown",
   "id": "unable-ocean",
   "metadata": {},
   "source": [
    "En este código implementaremos el método de las potencias o \"power method\" y el método de potencias inversas con shift o \"shifted-inverse power method\" para una matriz $A$ de orden $n$ con $n$ valores propios distintos. \n",
    "\n",
    "El método de las potencias es capaz de calcular el valor propio dominante $\\lambda_1$ y su respectivo vector propio $V_1$ para una matriz $A$ de orden $n$. Se asume que los autovalores tienen la propiedad $\\vert \\lambda_1\\vert>\\vert \\lambda_2\\vert>...>\\vert \\lambda_n\\vert>0.$\n",
    "\n",
    "Por otro lado, el shifted-inverse power method calcula el valor propio dominante $\\lambda_j$ y su vector propio asociado $V_j$. En este caso, se asume que los $n$ valores propios tienen la propiedad $\\lambda_1<\\lambda_2<...<\\lambda_n$ y que $\\alpha$ es un real tal que $\\vert \\lambda_j-\\alpha\\vert<\\vert\\lambda_i-\\alpha\\vert$, para cada $i=1,2,...,j-1,j+1,...,n$. Luego este método es capaz de obtener los valores propios de $A$ siempre que demos un valor de $\\alpha$ cerca a uno de ello. La elección de un vector inicial adecuado asegura una convergencia en menos iteraciones."
   ]
  },
  {
   "cell_type": "code",
   "execution_count": 1,
   "id": "sealed-thomson",
   "metadata": {},
   "outputs": [],
   "source": [
    "import numpy as np\n",
    "import matplotlib.pyplot as plt"
   ]
  },
  {
   "cell_type": "code",
   "execution_count": 14,
   "id": "quality-commitment",
   "metadata": {},
   "outputs": [],
   "source": [
    "def my_pow(A,x,tol,N, norm):\n",
    "    \"\"\"\n",
    "    Entrada:\n",
    "    A= una matriz nxn\n",
    "    x= vector inicial\n",
    "    tol= tolerancia\n",
    "    N= maximo numero de iteraciones\n",
    "    \n",
    "    Salida:\n",
    "    lambda= valor propio dominante\n",
    "    v= vector propio asociado al valor propio dominante\n",
    "    err= error cometido\n",
    "    k= numero de iteraciones para alcanzar tol\n",
    "    \"\"\"\n",
    "    lmb = 0. # lambda inicial\n",
    "    k = 0 # contador de iteraciones\n",
    "    err = 1. # error inicial (tomar valor grande)\n",
    "    \n",
    "    while k<=N and err>tol:\n",
    "        y = A@x\n",
    "        # normaliza y\n",
    "        indx=np.argmax(np.abs(y))\n",
    "        c1 = y[indx,0]\n",
    "        dc = np.abs(lmb-c1)# distancia entre lambda^{(k)} y lambda^{(k+1)}\n",
    "        y = (1/c1)*y\n",
    "        # actualiza x y lambda (check para convergencia)\n",
    "        if norm == \"norm_2\":\n",
    "            dv = np.linalg.norm(x-y) # distancia entre V^{(k)} y V^{(k+1)}\n",
    "        elif norm == \"infty\":\n",
    "            dv = np.max(abs(x-y))\n",
    "        err = np.max([dc,dv]) # se toma el maximo de los errores\n",
    "        x = y\n",
    "        lmb=c1\n",
    "        k+=1\n",
    "        print(lmb,x.T, k) # comentar para no imprimir iteraciones\n",
    "    v=x\n",
    "    \n",
    "    return lmb,v,err,k"
   ]
  },
  {
   "cell_type": "code",
   "execution_count": 15,
   "id": "tested-garbage",
   "metadata": {},
   "outputs": [],
   "source": [
    "A = np.array([[4,2,1], [0,3,2], [1,1,4]])\n",
    "x_0 = np.array([[1], [2], [1]])\n",
    "tol = 1e-5\n",
    "N = 10\n",
    "norm = \"infty\""
   ]
  },
  {
   "cell_type": "code",
   "execution_count": 16,
   "id": "universal-prospect",
   "metadata": {},
   "outputs": [
    {
     "name": "stdout",
     "output_type": "stream",
     "text": [
      "9 [[1.         0.88888889 0.77777778]] 1\n",
      "6.555555555555555 [[1.         0.6440678  0.76271186]] 2\n",
      "6.0508474576271185 [[1.         0.57142857 0.77591036]] 3\n",
      "5.9187675070028005 [[1.         0.55182205 0.78987222]] 4\n",
      "5.893516327496451 [[1.         0.54894403 0.79940577]] 5\n",
      "5.897293824781176 [[1.         0.55036152 0.80487207]] 6\n",
      "5.905595119759256 [[1.         0.55215921 0.80768317]] 7\n",
      "5.912001586346354 [[1.         0.55342407 0.80901397]] 8\n",
      "5.915862109849257 [[1.         0.55415425 0.80959966]] 9\n",
      "5.917908169376919 [[1.         0.55453075 0.80983901]] 10\n",
      "5.918900521508916 [[1.         0.55470949 0.8099286 ]] 11\n"
     ]
    },
    {
     "data": {
      "text/plain": [
       "(5.918900521508916,\n",
       " array([[1.        ],\n",
       "        [0.55470949],\n",
       "        [0.8099286 ]]),\n",
       " 0.0009923521319965545,\n",
       " 11)"
      ]
     },
     "execution_count": 16,
     "metadata": {},
     "output_type": "execute_result"
    }
   ],
   "source": [
    "my_pow(A,x_0,tol,N, norm)"
   ]
  },
  {
   "cell_type": "code",
   "execution_count": 18,
   "id": "backed-choir",
   "metadata": {},
   "outputs": [
    {
     "data": {
      "text/plain": [
       "1.4013161511215162"
      ]
     },
     "execution_count": 18,
     "metadata": {},
     "output_type": "execute_result"
    }
   ],
   "source": [
    "np.linalg.norm(np.array([1, 0.55470949,0.8099286 ]))"
   ]
  },
  {
   "cell_type": "code",
   "execution_count": 17,
   "id": "endangered-tours",
   "metadata": {},
   "outputs": [
    {
     "data": {
      "text/plain": [
       "1.401193625025943"
      ]
     },
     "execution_count": 17,
     "metadata": {},
     "output_type": "execute_result"
    }
   ],
   "source": [
    "np.linalg.norm(np.array([1, 0.55453075, 0.80983901]))"
   ]
  },
  {
   "cell_type": "code",
   "execution_count": 40,
   "id": "asian-compilation",
   "metadata": {},
   "outputs": [],
   "source": [
    "def my_invpow(A,x,alpha,tol,N, norm):\n",
    "    \"\"\"\n",
    "    Entrada:\n",
    "    A= una matriz nxn\n",
    "    x= vector inicial\n",
    "    alpha= parametro inicial (preferiblemente cerca al vp requerido)\n",
    "    tol= tolerancia\n",
    "    N= maximo numero de iteraciones\n",
    "    \n",
    "    Salida:\n",
    "    lambda= valor propio\n",
    "    v= vector propio asociado al valor propio dominante\n",
    "    err= error cometido\n",
    "    k= numero de iteraciones para alcanzar tol\n",
    "    \"\"\"\n",
    "    mu = 0. # mu inicial\n",
    "    lmb= 0. # lambda inicial\n",
    "    k = 0 # contador de iteraciones\n",
    "    err = 1. # error inicial (tomar valor grande)\n",
    "    n=np.shape(A)[0]  # tamaño de A\n",
    "    \n",
    "    # definimos la matriz A - alpha*I\n",
    "    A=A-alpha*np.eye(n)\n",
    "    \n",
    "    while k<=N and err>tol:\n",
    "        y = np.linalg.solve(A,x) # esto calcula (A-alpha*I)^{-1}x\n",
    "        # normaliza y\n",
    "        indx=np.argmax(np.abs(y))\n",
    "        c1 = y[indx,0] # esto es mu\n",
    "        dc = np.abs(mu-c1)# error entre lambda^{(k)} y lambda^{(k+1)}\n",
    "        y = (1/c1)*y\n",
    "        # actualiza x and lambda (check para convergencia)\n",
    "        if norm == \"norm_2\":\n",
    "            dv = np.linalg.norm(x-y) # distancia entre V^{(k)} y V^{(k+1)}\n",
    "        elif norm == \"infty\":\n",
    "            dv = np.max(abs(x-y))\n",
    "        err = np.max([dc,dv]) # se toma el maximo de los errores\n",
    "        x = y\n",
    "        mu=c1\n",
    "        k+=1\n",
    "        lmb=alpha+1/c1\n",
    "        #print(mu,' ', lmb,x.T, k) # comentar para no imprimir iteraciones\n",
    "    v=x\n",
    "    return lmb,v,err,k"
   ]
  },
  {
   "cell_type": "code",
   "execution_count": 41,
   "id": "english-venezuela",
   "metadata": {},
   "outputs": [
    {
     "data": {
      "text/plain": [
       "(array([5.91963957+0.j        , 2.54018022+0.68817282j,\n",
       "        2.54018022-0.68817282j]),\n",
       " array([[-0.71357865+0.j        ,  0.71828869+0.j        ,\n",
       "          0.71828869-0.j        ],\n",
       "        [-0.39592057+0.j        , -0.51850636+0.38004717j,\n",
       "         -0.51850636-0.38004717j],\n",
       "        [-0.57797268+0.j        , -0.01155933-0.26578759j,\n",
       "         -0.01155933+0.26578759j]]))"
      ]
     },
     "execution_count": 41,
     "metadata": {},
     "output_type": "execute_result"
    }
   ],
   "source": [
    "np.linalg.eig(A)"
   ]
  },
  {
   "cell_type": "code",
   "execution_count": 54,
   "id": "every-stick",
   "metadata": {},
   "outputs": [
    {
     "data": {
      "text/plain": [
       "(1.4013935810900244, 11)"
      ]
     },
     "execution_count": 54,
     "metadata": {},
     "output_type": "execute_result"
    }
   ],
   "source": [
    "p = 5\n",
    "np.linalg.norm(my_invpow(A,x_0,p,tol,N, norm)[1]), my_invpow(A,x_0,p,tol,N, norm)[3]"
   ]
  },
  {
   "cell_type": "code",
   "execution_count": 74,
   "id": "personal-draft",
   "metadata": {},
   "outputs": [
    {
     "data": {
      "text/plain": [
       "array([[0.8, 0.3],\n",
       "       [0.2, 0.7]])"
      ]
     },
     "execution_count": 74,
     "metadata": {},
     "output_type": "execute_result"
    }
   ],
   "source": [
    "A"
   ]
  },
  {
   "cell_type": "code",
   "execution_count": 75,
   "id": "facial-secretariat",
   "metadata": {},
   "outputs": [
    {
     "data": {
      "text/plain": [
       "array([[1.5],\n",
       "       [1. ]])"
      ]
     },
     "execution_count": 75,
     "metadata": {},
     "output_type": "execute_result"
    }
   ],
   "source": [
    "A = np.array([[0.8, 0.3], [0.2, 0.7]])\n",
    "v = np.linalg.eig(A)[1]\n",
    "((v/v[1,0])[:, 0]).reshape((2,1))"
   ]
  },
  {
   "cell_type": "code",
   "execution_count": 77,
   "id": "combined-vegetarian",
   "metadata": {},
   "outputs": [
    {
     "data": {
      "text/plain": [
       "30000.0"
      ]
     },
     "execution_count": 77,
     "metadata": {},
     "output_type": "execute_result"
    }
   ],
   "source": [
    "1.5*50000/2.5"
   ]
  },
  {
   "cell_type": "code",
   "execution_count": 5,
   "id": "enhanced-friend",
   "metadata": {},
   "outputs": [
    {
     "name": "stdout",
     "output_type": "stream",
     "text": [
      "los autovalores son  [1. 2. 4.]\n",
      "los autovectores son (leer por columnas)\n",
      " [[ 0.40824829 -0.21821789 -0.32444284]\n",
      " [ 0.40824829 -0.43643578 -0.48666426]\n",
      " [ 0.81649658 -0.87287156 -0.81110711]]\n",
      "\n",
      "el autovalor dominante es  4.000000000000021\n",
      "y su autovector asociado (normalizado) es  [0.4 0.6 1. ]\n"
     ]
    }
   ],
   "source": [
    "# definamos una matriz y un vector inicial\n",
    "A = np.array([[0,11,-5],\n",
    "              [-2,17,-7],\n",
    "              [-4,26,-10]])\n",
    "\n",
    "x0 = np.array([[1],[1],[1]])\n",
    "\n",
    "### veamos sus autovalores usando Numpy\n",
    "\n",
    "eigval,eigvec=np.linalg.eig(A)\n",
    "print(\"los autovalores son \",eigval)\n",
    "print(\"los autovectores son (leer por columnas)\\n\",eigvec)\n",
    "\n",
    "print(\"\")\n",
    "indx=np.argmax(np.abs(eigval)) # indice de lambda dominante\n",
    "dom_lmb=eigval[indx] # valor propio dominante\n",
    "print(\"el autovalor dominante es \", dom_lmb)\n",
    "\n",
    "dom_eigvec = eigvec[:,indx] # vector propio asociado a lambda dominante\n",
    "indx_vec = np.argmax(np.abs(dom_eigvec)) # indice del mayor v_i en V\n",
    "norm_eigvec=1/dom_eigvec[indx_vec]*eigvec[:,indx] # vector propio normalizado\n",
    "print(\"y su autovector asociado (normalizado) es \",norm_eigvec)"
   ]
  },
  {
   "cell_type": "code",
   "execution_count": 6,
   "id": "honey-tracy",
   "metadata": {},
   "outputs": [
    {
     "name": "stdout",
     "output_type": "stream",
     "text": [
      "12 [[0.5        0.66666667 1.        ]]\n",
      "5.333333333333332 [[0.4375 0.625  1.    ]]\n",
      "4.5 [[0.41666667 0.61111111 1.        ]]\n",
      "4.222222222222221 [[0.40789474 0.60526316 1.        ]]\n",
      "4.105263157894727 [[0.40384615 0.6025641  1.        ]]\n",
      "4.0512820512820475 [[0.40189873 0.60126582 1.        ]]\n",
      "4.025316455696197 [[0.4009434  0.60062893 1.        ]]\n",
      "4.012578616352204 [[0.40047022 0.60031348 1.        ]]\n",
      "4.006269592476485 [[0.40023474 0.60015649 1.        ]]\n",
      "4.00312989045384 [[0.40011728 0.60007819 1.        ]]\n",
      "4.001563721657538 [[0.40005862 0.60003908 1.        ]]\n",
      "4.000781555295044 [[0.4000293  0.60001954 1.        ]]\n",
      "4.000390701308849 [[0.40001465 0.60000977 1.        ]]\n",
      "4.000195331575345 [[0.40000732 0.60000488 1.        ]]\n",
      "4.0000976610186 [[0.40000366 0.60000244 1.        ]]\n",
      "4.000048829317118 [[0.40000183 0.60000122 1.        ]]\n",
      "4.000024414360526 [[0.40000092 0.60000061 1.        ]]\n",
      "4.000012207105749 [[0.40000046 0.60000031 1.        ]]\n",
      "4.000006103534247 [[0.40000023 0.60000015 1.        ]]\n",
      "\n",
      "iteraciones usadas  19\n",
      "error  6.1035715024360115e-06\n"
     ]
    }
   ],
   "source": [
    "# probemos nuestra implementacion de pow\n",
    "\n",
    "lmb,v,error,k = my_pow(A,x0,1E-5,100)\n",
    "print(\"\\niteraciones usadas \",k)\n",
    "print(\"error \",error)"
   ]
  },
  {
   "cell_type": "code",
   "execution_count": 12,
   "id": "equipped-gates",
   "metadata": {},
   "outputs": [
    {
     "name": "stdout",
     "output_type": "stream",
     "text": [
      "52.105263157894875   3.919191919191919 [[0.39393939 0.5959596  1.        ]]\n",
      "9.57469431153645   4.004441976679622 [[0.40033315 0.6002221  1.        ]]\n",
      "10.023378824629626   3.99976675704831 [[0.39998251 0.59998834 1.        ]]\n",
      "9.998772405517455   4.000012277451998 [[0.40000092 0.60000061 1.        ]]\n",
      "10.000064618168468   3.9999993538224907 [[0.39999995 0.59999997 1.        ]]\n",
      "9.999996599065788   4.0000000340093536 [[0.4 0.6 1. ]]\n",
      "10.00000017899663   3.9999999982100336 [[0.4 0.6 1. ]]\n",
      "\n",
      "iteraciones usadas  7\n",
      "error  3.5799308424344645e-06\n"
     ]
    }
   ],
   "source": [
    "# probemos nuestra implementacion de invpow\n",
    "x0 = np.array([[1],[1],[1]])\n",
    "lmb,v,error,k = my_invpow(A,x0,3.9,1E-5,100)\n",
    "print(\"\\niteraciones usadas \",k)\n",
    "print(\"error \",error)"
   ]
  },
  {
   "cell_type": "code",
   "execution_count": 3,
   "id": "alleged-pocket",
   "metadata": {},
   "outputs": [],
   "source": [
    "import sympy as sp"
   ]
  },
  {
   "cell_type": "code",
   "execution_count": 78,
   "id": "mechanical-graduate",
   "metadata": {},
   "outputs": [],
   "source": [
    "def fac(n):\n",
    "    if n == 0:\n",
    "        return 1\n",
    "    else:\n",
    "        return n*fac(n-1)"
   ]
  },
  {
   "cell_type": "code",
   "execution_count": 80,
   "id": "absent-lotus",
   "metadata": {},
   "outputs": [
    {
     "data": {
      "text/plain": [
       "0.16437518295172257"
      ]
     },
     "execution_count": 80,
     "metadata": {},
     "output_type": "execute_result"
    }
   ],
   "source": [
    "(fac(5)*10**(-6))**(1/5)"
   ]
  },
  {
   "cell_type": "code",
   "execution_count": 99,
   "id": "animated-korea",
   "metadata": {},
   "outputs": [
    {
     "data": {
      "text/latex": [
       "$\\displaystyle \\sin{\\left(x \\right)}$"
      ],
      "text/plain": [
       "sin(x)"
      ]
     },
     "execution_count": 99,
     "metadata": {},
     "output_type": "execute_result"
    }
   ],
   "source": [
    "f = lambda x: sp.sin(x) \n",
    "x = sp.symbols('x')\n",
    "f(x)"
   ]
  },
  {
   "cell_type": "code",
   "execution_count": 100,
   "id": "collect-gauge",
   "metadata": {},
   "outputs": [
    {
     "data": {
      "text/latex": [
       "$\\displaystyle - 3.9308639346934 x^{3} + 4.5 x^{3} \\sin{\\left(1 \\right)} - 4.5 x^{2} \\sin{\\left(1 \\right)} + 3.76877577734184 x^{2} + 0.162088157351553 x + 1.0 x \\sin{\\left(1 \\right)}$"
      ],
      "text/plain": [
       "-3.9308639346934*x**3 + 4.5*x**3*sin(1) - 4.5*x**2*sin(1) + 3.76877577734184*x**2 + 0.162088157351553*x + 1.0*x*sin(1)"
      ]
     },
     "execution_count": 100,
     "metadata": {},
     "output_type": "execute_result"
    }
   ],
   "source": [
    "starts = [0, 1/3, 2/3, 1]\n",
    "aprox = 0\n",
    "vals = []\n",
    "for j in range(len(starts)):\n",
    "    s = 1\n",
    "    for k in range(len(starts)):\n",
    "        if k != j:\n",
    "            s *= (x-starts[k])/ (starts[j] - starts[k])\n",
    "    aprox += s*f(starts[j])\n",
    "    vals.append(s)\n",
    "aprox.expand()"
   ]
  },
  {
   "cell_type": "code",
   "execution_count": 94,
   "id": "popular-position",
   "metadata": {},
   "outputs": [
    {
     "data": {
      "text/plain": [
       "1.8"
      ]
     },
     "execution_count": 94,
     "metadata": {},
     "output_type": "execute_result"
    }
   ],
   "source": [
    "9/5"
   ]
  },
  {
   "cell_type": "code",
   "execution_count": 89,
   "id": "regulation-beauty",
   "metadata": {},
   "outputs": [
    {
     "data": {
      "text/plain": [
       "[(1 - x)*(1 - x/2), x*(2 - x), x*(x - 1)/2]"
      ]
     },
     "execution_count": 89,
     "metadata": {},
     "output_type": "execute_result"
    }
   ],
   "source": [
    "vals"
   ]
  },
  {
   "cell_type": "code",
   "execution_count": 96,
   "id": "experienced-infrastructure",
   "metadata": {},
   "outputs": [
    {
     "data": {
      "text/plain": [
       "0.0018414239093399677"
      ]
     },
     "execution_count": 96,
     "metadata": {},
     "output_type": "execute_result"
    }
   ],
   "source": [
    "(0.25**3)*(1.5**1.5)/(9*np.sqrt(3))"
   ]
  },
  {
   "cell_type": "code",
   "execution_count": 101,
   "id": "sexual-canada",
   "metadata": {},
   "outputs": [
    {
     "data": {
      "text/plain": [
       "0.06145192971351189"
      ]
     },
     "execution_count": 101,
     "metadata": {},
     "output_type": "execute_result"
    }
   ],
   "source": [
    "(5*10**(-7)*24/np.sin(1))**(1/4)"
   ]
  },
  {
   "cell_type": "code",
   "execution_count": 103,
   "id": "certain-guest",
   "metadata": {},
   "outputs": [],
   "source": [
    "h = (6*10**(-9))**(1/3)"
   ]
  },
  {
   "cell_type": "code",
   "execution_count": 104,
   "id": "continent-gender",
   "metadata": {},
   "outputs": [
    {
     "data": {
      "text/plain": [
       "2751.606040745521"
      ]
     },
     "execution_count": 104,
     "metadata": {},
     "output_type": "execute_result"
    }
   ],
   "source": [
    "5/h"
   ]
  },
  {
   "cell_type": "code",
   "execution_count": 105,
   "id": "welcome-atlanta",
   "metadata": {},
   "outputs": [],
   "source": [
    "M = 11 # entre 1-6"
   ]
  },
  {
   "cell_type": "code",
   "execution_count": 106,
   "id": "infrared-manor",
   "metadata": {},
   "outputs": [],
   "source": [
    "f = lambda x: 2+sp.sin(2*sp.sqrt(x))"
   ]
  },
  {
   "cell_type": "code",
   "execution_count": 107,
   "id": "surgical-constitutional",
   "metadata": {},
   "outputs": [],
   "source": [
    "h = (6-1)/M"
   ]
  },
  {
   "cell_type": "code",
   "execution_count": 109,
   "id": "packed-brooks",
   "metadata": {},
   "outputs": [],
   "source": [
    "s = 0\n",
    "x_k = 1 + h\n",
    "for i in range(M-1):\n",
    "    f(x_k)\n",
    "    x_k += h"
   ]
  },
  {
   "cell_type": "code",
   "execution_count": 111,
   "id": "novel-bandwidth",
   "metadata": {},
   "outputs": [
    {
     "data": {
      "text/latex": [
       "$\\displaystyle 0.892421588012906$"
      ],
      "text/plain": [
       "0.892421588012906"
      ]
     },
     "execution_count": 111,
     "metadata": {},
     "output_type": "execute_result"
    }
   ],
   "source": [
    "((h/2)*(f(6)+f(1)) + h*s).evalf()"
   ]
  },
  {
   "cell_type": "code",
   "execution_count": 116,
   "id": "sharing-breathing",
   "metadata": {},
   "outputs": [],
   "source": [
    "M = 11\n",
    "h = (6-1)/(2*M)\n",
    "f = lambda x: 2 - sp.sin(2*sp.sqrt(x))"
   ]
  },
  {
   "cell_type": "code",
   "execution_count": 121,
   "id": "informal-shadow",
   "metadata": {},
   "outputs": [
    {
     "data": {
      "text/latex": [
       "$\\displaystyle 11.8165425889845$"
      ],
      "text/plain": [
       "11.8165425889845"
      ]
     },
     "execution_count": 121,
     "metadata": {},
     "output_type": "execute_result"
    }
   ],
   "source": [
    "s_1 = 0\n",
    "s_2 = 0\n",
    "x = [1 + h*i for i in range(2*M+1)]\n",
    "for k in range(1,M):\n",
    "    s_1 += f(x[2*k])\n",
    "for k in range(1, M+1):\n",
    "    s_2 += f(x[2*k-1])\n",
    "((h/3)*(f(6)+f(1))+2*h*s_1/3 +  4*h*s_2/3).evalf()"
   ]
  },
  {
   "cell_type": "code",
   "execution_count": 122,
   "id": "embedded-insertion",
   "metadata": {},
   "outputs": [],
   "source": [
    "import pandas as pd"
   ]
  },
  {
   "cell_type": "code",
   "execution_count": 171,
   "id": "written-revolution",
   "metadata": {},
   "outputs": [],
   "source": [
    "df = pd.read_csv(\"https://raw.githubusercontent.com/MinCiencia/Datos-COVID19/master/output/producto1/Covid-19.csv\")"
   ]
  },
  {
   "cell_type": "code",
   "execution_count": 182,
   "id": "stylish-warrant",
   "metadata": {},
   "outputs": [
    {
     "data": {
      "image/png": "[encoded data removed]",
      "text/plain": [
       "<Figure size 432x288 with 1 Axes>"
      ]
     },
     "metadata": {
      "needs_background": "light"
     },
     "output_type": "display_data"
    }
   ],
   "source": [
    "comuna = \"Santiago\"\n",
    "fecha = df.query(f'Comuna == \"{comuna}\"').columns[5:-1]\n",
    "datos = df.query(f'Comuna == \"{comuna}\"').values[0][5:-1]\n",
    "plt.plot(fecha, datos, label = comuna)\n",
    "comuna = \"Valparaiso\"\n",
    "fecha = df.query(f'Comuna == \"{comuna}\"').columns[5:-1]\n",
    "datos = df.query(f'Comuna == \"{comuna}\"').values[0][5:-1]\n",
    "plt.plot(fecha, datos, label = comuna)\n",
    "plt.legend()\n",
    "plt.show()"
   ]
  },
  {
   "cell_type": "code",
   "execution_count": 183,
   "id": "cutting-myrtle",
   "metadata": {},
   "outputs": [],
   "source": [
    "import sympy as sp"
   ]
  },
  {
   "cell_type": "code",
   "execution_count": 184,
   "id": "rational-arabic",
   "metadata": {},
   "outputs": [],
   "source": [
    "x, y, z = sp.symbols('x y z')"
   ]
  },
  {
   "cell_type": "code",
   "execution_count": 211,
   "id": "integral-karaoke",
   "metadata": {},
   "outputs": [
    {
     "data": {
      "text/latex": [
       "$\\displaystyle x^{3} \\sin{\\left(x \\right)}$"
      ],
      "text/plain": [
       "x**3*sin(x)"
      ]
     },
     "execution_count": 211,
     "metadata": {},
     "output_type": "execute_result"
    }
   ],
   "source": [
    "f = x**3*sp.sin(x)\n",
    "f"
   ]
  },
  {
   "cell_type": "code",
   "execution_count": 212,
   "id": "anonymous-detector",
   "metadata": {},
   "outputs": [
    {
     "data": {
      "text/latex": [
       "$\\displaystyle - x^{3} \\cos{\\left(x \\right)} + 3 x^{2} \\sin{\\left(x \\right)} + 6 x \\cos{\\left(x \\right)} - 6 \\sin{\\left(x \\right)}$"
      ],
      "text/plain": [
       "-x**3*cos(x) + 3*x**2*sin(x) + 6*x*cos(x) - 6*sin(x)"
      ]
     },
     "execution_count": 212,
     "metadata": {},
     "output_type": "execute_result"
    }
   ],
   "source": [
    "sp.integrate(f, x)"
   ]
  },
  {
   "cell_type": "code",
   "execution_count": null,
   "id": "statutory-lawrence",
   "metadata": {},
   "outputs": [],
   "source": []
  }
 ],
 "metadata": {
  "kernelspec": {
   "display_name": "Python 3",
   "language": "python",
   "name": "python3"
  },
  "language_info": {
   "codemirror_mode": {
    "name": "ipython",
    "version": 3
   },
   "file_extension": ".py",
   "mimetype": "text/x-python",
   "name": "python",
   "nbconvert_exporter": "python",
   "pygments_lexer": "ipython3",
   "version": "3.7.8"
  }
 },
 "nbformat": 4,
 "nbformat_minor": 5
}
