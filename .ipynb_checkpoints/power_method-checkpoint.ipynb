{
 "cells": [
  {
   "cell_type": "markdown",
   "id": "118eaaf3-7988-4d73-aa10-ef7575ba7ee2",
   "metadata": {},
   "source": [
    "En este código implementaremos el método de las potencias o \"power method\" y el método de potencias inversas con shift o \"shifted-inverse power method\" para una matriz $A$ de orden $n$ con $n$ valores propios distintos. \n",
    "\n",
    "El método de las potencias es capaz de calcular el valor propio dominante $\\lambda_1$ y su respectivo vector propio $V_1$ para una matriz $A$ de orden $n$. Se asume que los autovalores tienen la propiedad $\\vert \\lambda_1\\vert>\\vert \\lambda_2\\vert>...>\\vert \\lambda_n\\vert>0.$\n",
    "\n",
    "Por otro lado, el shifted-inverse power method calcula el valor propio dominante $\\lambda_j$ y su vector propio asociado $V_j$. En este caso, se asume que los $n$ valores propios tienen la propiedad $\\lambda_1<\\lambda_2<...<\\lambda_n$ y que $\\alpha$ es un real tal que $\\vert \\lambda_j-\\alpha\\vert<\\vert\\lambda_i-\\alpha\\vert$, para cada $i=1,2,...,j-1,j+1,...,n$. Luego este método es capaz de obtener los valores propios de $A$ siempre que demos un valor de $\\alpha$ cerca a uno de ello. La elección de un vector inicial adecuado asegura una convergencia en menos iteraciones."
   ]
  },
  {
   "cell_type": "code",
   "execution_count": 2,
   "id": "1ca56ed5-854a-4e85-874b-661c4895cc45",
   "metadata": {},
   "outputs": [],
   "source": [
    "import numpy as np\n",
    "import matplotlib.pyplot as plt"
   ]
  },
  {
   "cell_type": "code",
   "execution_count": 4,
   "id": "3b32867b-c3b1-4146-b707-b5ab1e23f600",
   "metadata": {},
   "outputs": [],
   "source": [
    "def my_pow(A,x,tol,N):\n",
    "    \"\"\"\n",
    "    Entrada:\n",
    "    A= una matriz nxn\n",
    "    x= vector inicial\n",
    "    tol= tolerancia\n",
    "    N= maximo numero de iteraciones\n",
    "    \n",
    "    Salida:\n",
    "    lambda= valor propio dominante\n",
    "    v= vector propio asociado al valor propio dominante\n",
    "    err= error cometido\n",
    "    k= numero de iteraciones para alcanzar tol\n",
    "    \"\"\"\n",
    "    lmb = 0. # lambda inicial\n",
    "    k = 0 # contador de iteraciones\n",
    "    err = 1. # error inicial (tomar valor grande)\n",
    "    \n",
    "    while k<=N and err>tol:\n",
    "        y = A@x\n",
    "        # normaliza y\n",
    "        indx=np.argmax(np.abs(y))\n",
    "        c1 = y[indx,0]\n",
    "        dc = np.abs(lmb-c1)# distancia entre lambda^{(k)} y lambda^{(k+1)}\n",
    "        y = (1/c1)*y\n",
    "        # actualiza x y lambda (check para convergencia)\n",
    "        dv = np.linalg.norm(x-y) # distancia entre V^{(k)} y V^{(k+1)}\n",
    "        err = np.max([dc,dv]) # se toma el maximo de los errores\n",
    "        x = y\n",
    "        lmb=c1\n",
    "        k+=1\n",
    "        print(lmb,x.T) # comentar para no imprimir iteraciones\n",
    "    v=x\n",
    "    \n",
    "    return lmb,v,err,k\n",
    "\n",
    "def my_invpow(A,x,alpha,tol,N):\n",
    "    \"\"\"\n",
    "    Entrada:\n",
    "    A= una matriz nxn\n",
    "    x= vector inicial\n",
    "    alpha= parametro inicial (preferiblemente cerca al vp requerido)\n",
    "    tol= tolerancia\n",
    "    N= maximo numero de iteraciones\n",
    "    \n",
    "    Salida:\n",
    "    lambda= valor propio\n",
    "    v= vector propio asociado al valor propio dominante\n",
    "    err= error cometido\n",
    "    k= numero de iteraciones para alcanzar tol\n",
    "    \"\"\"\n",
    "    mu = 0. # mu inicial\n",
    "    lmb= 0. # lambda inicial\n",
    "    k = 0 # contador de iteraciones\n",
    "    err = 1. # error inicial (tomar valor grande)\n",
    "    n=np.shape(A)[0]  # tamaño de A\n",
    "    \n",
    "    # definimos la matriz A - alpha*I\n",
    "    A=A-alpha*np.eye(n)\n",
    "    \n",
    "    while k<=N and err>tol:\n",
    "        y = np.linalg.solve(A,x) # esto calcula (A-alpha*I)^{-1}x\n",
    "        # normaliza y\n",
    "        indx=np.argmax(np.abs(y))\n",
    "        c1 = y[indx,0] # esto es mu\n",
    "        dc = np.abs(mu-c1)# error entre lambda^{(k)} y lambda^{(k+1)}\n",
    "        y = (1/c1)*y\n",
    "        # actualiza x and lambda (check para convergencia)\n",
    "        dv = np.linalg.norm(x-y) # distancia entre V^{(k)} y V^{(k+1)}\n",
    "        err = np.max([dc,dv]) # se toma el maximo de los errores\n",
    "        x = y\n",
    "        mu=c1\n",
    "        k+=1\n",
    "        lmb=alpha+1/c1\n",
    "        print(mu,' ', lmb,x.T) # comentar para no imprimir iteraciones\n",
    "    v=x\n",
    "    return lmb,v,err,k\n"
   ]
  },
  {
   "cell_type": "code",
   "execution_count": 5,
   "id": "ede28ede-826e-454a-982f-ce29894d5d48",
   "metadata": {},
   "outputs": [
    {
     "name": "stdout",
     "output_type": "stream",
     "text": [
      "los autovalores son  [1. 2. 4.]\n",
      "los autovectores son (leer por columnas)\n",
      " [[ 0.40824829 -0.21821789 -0.32444284]\n",
      " [ 0.40824829 -0.43643578 -0.48666426]\n",
      " [ 0.81649658 -0.87287156 -0.81110711]]\n",
      "\n",
      "el autovalor dominante es  4.000000000000021\n",
      "y su autovector asociado (normalizado) es  [0.4 0.6 1. ]\n"
     ]
    }
   ],
   "source": [
    "# definamos una matriz y un vector inicial\n",
    "A = np.array([[0,11,-5],\n",
    "              [-2,17,-7],\n",
    "              [-4,26,-10]])\n",
    "\n",
    "x0 = np.array([[1],[1],[1]])\n",
    "\n",
    "### veamos sus autovalores usando Numpy\n",
    "\n",
    "eigval,eigvec=np.linalg.eig(A)\n",
    "print(\"los autovalores son \",eigval)\n",
    "print(\"los autovectores son (leer por columnas)\\n\",eigvec)\n",
    "\n",
    "print(\"\")\n",
    "indx=np.argmax(np.abs(eigval)) # indice de lambda dominante\n",
    "dom_lmb=eigval[indx] # valor propio dominante\n",
    "print(\"el autovalor dominante es \", dom_lmb)\n",
    "\n",
    "dom_eigvec = eigvec[:,indx] # vector propio asociado a lambda dominante\n",
    "indx_vec = np.argmax(np.abs(dom_eigvec)) # indice del mayor v_i en V\n",
    "norm_eigvec=1/dom_eigvec[indx_vec]*eigvec[:,indx] # vector propio normalizado\n",
    "print(\"y su autovector asociado (normalizado) es \",norm_eigvec)"
   ]
  },
  {
   "cell_type": "code",
   "execution_count": 6,
   "id": "eb867b36-2454-4bda-a595-532072bb3fe7",
   "metadata": {},
   "outputs": [
    {
     "name": "stdout",
     "output_type": "stream",
     "text": [
      "12 [[0.5        0.66666667 1.        ]]\n",
      "5.333333333333332 [[0.4375 0.625  1.    ]]\n",
      "4.5 [[0.41666667 0.61111111 1.        ]]\n",
      "4.222222222222221 [[0.40789474 0.60526316 1.        ]]\n",
      "4.105263157894727 [[0.40384615 0.6025641  1.        ]]\n",
      "4.0512820512820475 [[0.40189873 0.60126582 1.        ]]\n",
      "4.025316455696197 [[0.4009434  0.60062893 1.        ]]\n",
      "4.012578616352204 [[0.40047022 0.60031348 1.        ]]\n",
      "4.006269592476485 [[0.40023474 0.60015649 1.        ]]\n",
      "4.00312989045384 [[0.40011728 0.60007819 1.        ]]\n",
      "4.001563721657538 [[0.40005862 0.60003908 1.        ]]\n",
      "4.000781555295044 [[0.4000293  0.60001954 1.        ]]\n",
      "4.000390701308849 [[0.40001465 0.60000977 1.        ]]\n",
      "4.000195331575345 [[0.40000732 0.60000488 1.        ]]\n",
      "4.0000976610186 [[0.40000366 0.60000244 1.        ]]\n",
      "4.000048829317118 [[0.40000183 0.60000122 1.        ]]\n",
      "4.000024414360526 [[0.40000092 0.60000061 1.        ]]\n",
      "4.000012207105749 [[0.40000046 0.60000031 1.        ]]\n",
      "4.000006103534247 [[0.40000023 0.60000015 1.        ]]\n",
      "\n",
      "iteraciones usadas  19\n",
      "error  6.1035715024360115e-06\n"
     ]
    }
   ],
   "source": [
    "# probemos nuestra implementacion de pow\n",
    "\n",
    "lmb,v,error,k = my_pow(A,x0,1E-5,100)\n",
    "print(\"\\niteraciones usadas \",k)\n",
    "print(\"error \",error)"
   ]
  },
  {
   "cell_type": "code",
   "execution_count": 12,
   "id": "464ae1f1-f26e-4b6d-9bc1-2c5806564259",
   "metadata": {},
   "outputs": [
    {
     "name": "stdout",
     "output_type": "stream",
     "text": [
      "52.105263157894875   3.919191919191919 [[0.39393939 0.5959596  1.        ]]\n",
      "9.57469431153645   4.004441976679622 [[0.40033315 0.6002221  1.        ]]\n",
      "10.023378824629626   3.99976675704831 [[0.39998251 0.59998834 1.        ]]\n",
      "9.998772405517455   4.000012277451998 [[0.40000092 0.60000061 1.        ]]\n",
      "10.000064618168468   3.9999993538224907 [[0.39999995 0.59999997 1.        ]]\n",
      "9.999996599065788   4.0000000340093536 [[0.4 0.6 1. ]]\n",
      "10.00000017899663   3.9999999982100336 [[0.4 0.6 1. ]]\n",
      "\n",
      "iteraciones usadas  7\n",
      "error  3.5799308424344645e-06\n"
     ]
    }
   ],
   "source": [
    "# probemos nuestra implementacion de invpow\n",
    "x0 = np.array([[1],[1],[1]])\n",
    "lmb,v,error,k = my_invpow(A,x0,3.9,1E-5,100)\n",
    "print(\"\\niteraciones usadas \",k)\n",
    "print(\"error \",error)"
   ]
  },
  {
   "cell_type": "code",
   "execution_count": null,
   "id": "ff5574b5-18cf-41c7-9d00-160d1896e15e",
   "metadata": {},
   "outputs": [],
   "source": []
  },
  {
   "cell_type": "code",
   "execution_count": null,
   "id": "f8d00686-f462-40ed-b962-63bfd7572a7d",
   "metadata": {},
   "outputs": [],
   "source": []
  }
 ],
 "metadata": {
  "kernelspec": {
   "display_name": "Python 3",
   "language": "python",
   "name": "python3"
  },
  "language_info": {
   "codemirror_mode": {
    "name": "ipython",
    "version": 3
   },
   "file_extension": ".py",
   "mimetype": "text/x-python",
   "name": "python",
   "nbconvert_exporter": "python",
   "pygments_lexer": "ipython3",
   "version": "3.9.5"
  }
 },
 "nbformat": 4,
 "nbformat_minor": 5
}
