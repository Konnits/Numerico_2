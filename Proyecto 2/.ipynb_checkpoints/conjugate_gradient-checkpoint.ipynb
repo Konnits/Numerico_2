{
 "cells": [
  {
   "cell_type": "markdown",
   "id": "regulated-carroll",
   "metadata": {},
   "source": [
    "Este codigo implementa el método GC con precondicionador.\n",
    "\n",
    "Como entradas necesita:\n",
    "1. La matriz de ecuaciones $A$.\n",
    "2. El vector lado derecho $b$.\n",
    "3. La matriz de precondicionador $C^{-1}$. Puede ser $C^{-1}=I$.\n",
    "4. Una solución inicial $x^0$.\n",
    "5. Tolerancia y numero maximo de iteraciones"
   ]
  },
  {
   "cell_type": "code",
   "execution_count": 1,
   "id": "successful-barbados",
   "metadata": {},
   "outputs": [],
   "source": [
    "import numpy as np\n",
    "import matplotlib.pyplot as plt\n",
    "\n",
    "def my_gc(A,x,b,C,tol,maxiter):\n",
    "    x=np.copy(x)\n",
    "    r=b - A@x\n",
    "    w=np.linalg.solve(C,r) # Calcula w=inv(C)*r. w=w0\n",
    "    v=np.linalg.solve(C.T,w) # Calcula v=inv(transpose(C))*w. v=v0\n",
    "    alfa=np.linalg.norm(w)**2\n",
    "    k=0\n",
    "    \n",
    "    while k<=maxiter:\n",
    "        if np.linalg.norm(v)<=tol:\n",
    "            print(f'Solution converged in {k+1} iterations')\n",
    "            print('Solution vector ', x.T)\n",
    "            print('with residuals ', r.T)\n",
    "            break\n",
    "        u=A@v # u=Av_k\n",
    "        t=alfa/(u.T@v) # t=t_k\n",
    "        x+=t*v # x=x_k\n",
    "        r-=t*u # r=r_k\n",
    "        w=np.linalg.solve(C.T,r) # w=w_k\n",
    "        beta=np.linalg.norm(w)**2 # beta=inner(w_k,w_k)\n",
    "        if beta<tol:\n",
    "            if np.linalg.norm(r)<tol:\n",
    "                print(f'Solution converged in {k+1} iterations')\n",
    "                print('Solution vector ', x.T)\n",
    "                print('with residuals ', r.T)\n",
    "                break\n",
    "        s=beta/alfa #s=s_k\n",
    "        v=np.linalg.solve(C.T,w)+s*v # Update v=v_(k+1)\n",
    "        alfa=beta # Update alfa\n",
    "        k+=1 # Update k\n",
    "        \n",
    "    if k>maxiter:\n",
    "        print('Maximum number of iteration was exceeded')\n",
    "        print('Procces failed')\n",
    "        \n",
    "    return x, r"
   ]
  },
  {
   "cell_type": "code",
   "execution_count": 2,
   "id": "italic-transformation",
   "metadata": {},
   "outputs": [
    {
     "name": "stdout",
     "output_type": "stream",
     "text": [
      "Solution converged in 3 iterations\n",
      "Solution vector  [[ 3.  4. -5.]]\n",
      "with residuals  [[1.41553436e-15 7.77156117e-16 1.83186799e-15]]\n",
      "Vector error 3.552713678800501e-15\n"
     ]
    }
   ],
   "source": [
    "# Test\n",
    "A=np.array([[4,3,0],\n",
    "            [3,4,-1],\n",
    "            [0,-1,4]],dtype=np.float64)\n",
    "\n",
    "b=np.array([[24],[30],[-24]],dtype=np.float64)\n",
    "\n",
    "x0=np.array([[0],[0],[0]],dtype=np.float64)\n",
    "\n",
    "C_inv=np.eye(3)\n",
    "tol=1e-2\n",
    "N=30\n",
    "x,r=my_gc(A,x0,b,C_inv,tol,N)\n",
    "\n",
    "print('Vector error', np.linalg.norm(A@x-b,np.inf))"
   ]
  },
  {
   "cell_type": "markdown",
   "id": "amazing-phoenix",
   "metadata": {},
   "source": [
    "Ahora veamos el precondicionamiento en una matriz mal condicionada y el efecto del precondicionador. En este caso, el precondicionador de B se toma como una matriz diagonal D que contiene el recíproco de las raices de las entradas de la diagonal de B."
   ]
  },
  {
   "cell_type": "code",
   "execution_count": 3,
   "id": "provincial-obligation",
   "metadata": {},
   "outputs": [
    {
     "name": "stdout",
     "output_type": "stream",
     "text": [
      "La matriz D es\n",
      " [[2.23606798 0.         0.         0.         0.        ]\n",
      " [0.         0.5        0.         0.         0.        ]\n",
      " [0.         0.         0.12909944 0.         0.        ]\n",
      " [0.         0.         0.         0.35355339 0.        ]\n",
      " [0.         0.         0.         0.         0.03779645]]\n",
      "\n",
      "La matriz precondicionada D^TBD es\n",
      " [[ 1.          0.1118034   0.28867513  0.79056942  0.        ]\n",
      " [ 0.1118034   1.         -0.06454972  0.1767767  -0.01889822]\n",
      " [ 0.28867513 -0.06454972  1.          0.         -0.009759  ]\n",
      " [ 0.79056942  0.1767767   0.          1.          0.05345225]\n",
      " [ 0.         -0.01889822 -0.009759    0.05345225  1.        ]]\n",
      "El numero de condicion de B es  12265.159140471394\n",
      "El numero de condicion de la matriz precondicionada es 12.025984029659856\n"
     ]
    }
   ],
   "source": [
    "B=np.array([[0.2,0.1,1,1,0],\n",
    "           [0.1,4,-1,1,-1],\n",
    "           [1,-1,60,0,-2],\n",
    "           [1,1,0,8,4],\n",
    "           [0,-1,-2,4,700]],dtype=np.float64)\n",
    "D=np.diag([1/np.sqrt(B[i,i]) for i in range(B.shape[0])])\n",
    "print('La matriz D es\\n',D)\n",
    "print('\\nLa matriz precondicionada D^TBD es\\n', D@B@D.T)\n",
    "print('El numero de condicion de B es ', np.linalg.cond(B))\n",
    "print('El numero de condicion de la matriz precondicionada es', np.linalg.cond(D@B@D.T))"
   ]
  },
  {
   "cell_type": "markdown",
   "id": "guided-central",
   "metadata": {},
   "source": [
    "Como se puede observar, el número de condición bajó considerablemente. Veamos ahora como funciona el método GC en ambos casos."
   ]
  },
  {
   "cell_type": "code",
   "execution_count": 9,
   "id": "overall-event",
   "metadata": {},
   "outputs": [
    {
     "name": "stdout",
     "output_type": "stream",
     "text": [
      "\n",
      "Los resultados del GC CON precondicionador es\n",
      "\n",
      "Solution converged in 5 iterations\n",
      "Solution vector  [[ 7.85971308  0.42292641 -0.07359224 -0.54064302  0.01062616]]\n",
      "with residuals  [[-3.99071887e-11 -1.31992646e-11 -8.38785430e-10 -2.14348261e-10\n",
      "   1.62094057e-09]]\n",
      "Los resultados del GC SIN precondicionador es\n",
      "\n",
      "Solution converged in 6 iterations\n",
      "Solution vector  [[ 7.85971308  0.42292641 -0.07359224 -0.54064302  0.01062616]]\n",
      "with residuals  [[ 4.97534894e-13 -5.78508636e-13  3.07788097e-11 -1.21239727e-13\n",
      "   9.19366337e-14]]\n",
      "\n",
      "error GC no precondicionado 4.445862344937268e-09\n",
      "error GC precondicionado 4.411186083075336e-09\n"
     ]
    }
   ],
   "source": [
    "# La solucion exacta para este ejercicio es es\n",
    "exact=np.array([[7.859713071],\n",
    "                [0.4229264082],\n",
    "                [-0.07359223906],\n",
    "                [-0.5406430164],\n",
    "                [0.01062616286]],dtype=np.float64)\n",
    "\n",
    "b2=np.array([[1],[2],[3],[4],[5]],dtype=np.float64)\n",
    "tol=1e-7\n",
    "x0=np.array([[0],[0],[0],[0],[0]],dtype=np.float64)\n",
    "N=30\n",
    "\n",
    "print('\\nLos resultados del GC CON precondicionador es\\n')\n",
    "x2,r2=my_gc(B,x0,b2,D@B@D.T,tol,N) # Con precondicionador\n",
    "\n",
    "print('Los resultados del GC SIN precondicionador es\\n')\n",
    "x1,r1=my_gc(B,x0,b2,np.eye(b2.shape[0]),tol,N) # Sin precondicionador\n",
    "\n",
    "\n",
    "print('\\nerror GC no precondicionado', np.linalg.norm(x1-exact,np.inf))\n",
    "print('error GC precondicionado', np.linalg.norm(x2-exact,np.inf))\n"
   ]
  },
  {
   "cell_type": "markdown",
   "id": "seasonal-offering",
   "metadata": {},
   "source": [
    "Como podemos observar, el método da con el resultado requerido en ambos casos, tomando una iteración menos en el GC precondicionado. Este ahorro escala rápidamente en grandes sistemas matriciales (en el orden de millones de entradas).\n",
    "\n",
    "Por otro lado, podemos usar el modulo Scipy para importar el método GC y llegar al mismo resultado. Veamos"
   ]
  },
  {
   "cell_type": "code",
   "execution_count": 10,
   "id": "wireless-deviation",
   "metadata": {},
   "outputs": [
    {
     "name": "stdout",
     "output_type": "stream",
     "text": [
      "[ 7.85971308  0.42292641 -0.07359224 -0.54064302  0.01062616]\n",
      "[ 7.85971308  0.42292641 -0.07359224 -0.54064302  0.01062616]\n"
     ]
    }
   ],
   "source": [
    "import scipy.sparse.linalg as sp\n",
    "\n",
    "x_nopc,_=sp.cg(B,b2,x0=x0,tol=tol,maxiter=N)\n",
    "x_pc,_=sp.cg(B,b2,x0=x0,tol=tol,maxiter=N,M=D@B@D.T)\n",
    "\n",
    "print(x_nopc)\n",
    "print(x_pc)\n"
   ]
  }
 ],
 "metadata": {
  "kernelspec": {
   "display_name": "Python 3",
   "language": "python",
   "name": "python3"
  },
  "language_info": {
   "codemirror_mode": {
    "name": "ipython",
    "version": 3
   },
   "file_extension": ".py",
   "mimetype": "text/x-python",
   "name": "python",
   "nbconvert_exporter": "python",
   "pygments_lexer": "ipython3",
   "version": "3.9.5"
  }
 },
 "nbformat": 4,
 "nbformat_minor": 5
}
