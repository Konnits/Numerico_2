{
 "cells": [
  {
   "cell_type": "markdown",
   "id": "a46b01ef",
   "metadata": {},
   "source": [
    "# Pregunta 9"
   ]
  },
  {
   "cell_type": "markdown",
   "id": "8d91a9fd",
   "metadata": {},
   "source": [
    "Mediante la entrada de una matriz $M$, se escribio la funcion mypinv, la cual entrega la inversa de Moore Penrose de M a traves de la descomposición de valores singulares. Para solucionar el problema del error del punto flotante, se redondeo los valores de las matriz diagonal $S$ en 10 cifras, para evitar errores en el producto de la función."
   ]
  },
  {
   "cell_type": "code",
   "execution_count": 299,
   "id": "83281db4",
   "metadata": {},
   "outputs": [],
   "source": [
    "import numpy as np\n",
    "import numpy.linalg as linalg\n",
    "import matplotlib.pyplot as plt\n",
    "from numpy import linalg as la\n",
    "\n",
    "def mypinv(M):\n",
    "    #Se utiliza el comando SVD para obtener la descomposición SVD.\n",
    "    U, S, V = linalg.svd(M, full_matrices=True)\n",
    "    getcontext().prec = 20\n",
    "    #Se creo una matriz nula de la misma dimension de la matriz M.\n",
    "    smat = np.zeros(M.shape)\n",
    "    #Los valores diagonales se llenan con los valores entregados en la matriz S de la SVD de M.\n",
    "    for i in range(0, smat.shape[0]):\n",
    "        for j in range(0, smat.shape[1]):\n",
    "            if i==j:\n",
    "                # Se redondea los valores diagonales de la matriz S para evitar el error del punto flotante.\n",
    "                S[i] = round(S[i],12)\n",
    "                if S[i]==0:\n",
    "                    smat[i,i]=0\n",
    "                else:\n",
    "                    smat[i,i]=1/S[i]\n",
    "    #Finalmente, obtenemos la inversa generalizada mediante el siguiente producto.                \n",
    "    return V.transpose() @ smat.transpose() @ U.transpose()"
   ]
  },
  {
   "cell_type": "markdown",
   "id": "9f44f5bc",
   "metadata": {},
   "source": [
    "La pseudoinversa de la primera matriz de $2.b$ esta dada por:"
   ]
  },
  {
   "cell_type": "code",
   "execution_count": 300,
   "id": "5226fe59",
   "metadata": {},
   "outputs": [
    {
     "data": {
      "text/plain": [
       "array([[0.5, 0. ],\n",
       "       [0.5, 0. ]])"
      ]
     },
     "execution_count": 300,
     "metadata": {},
     "output_type": "execute_result"
    }
   ],
   "source": [
    "Matrix1 = np.array([[1,1],[0,0]])\n",
    "mypinv(Matrix1)"
   ]
  },
  {
   "cell_type": "markdown",
   "id": "a400a91a",
   "metadata": {},
   "source": [
    "La pseudoinversa de la segunda matriz de $2.b$ esta dada por:"
   ]
  },
  {
   "cell_type": "code",
   "execution_count": 301,
   "id": "c0fcaf72",
   "metadata": {},
   "outputs": [
    {
     "data": {
      "text/plain": [
       "array([[0.2, 0.4]])"
      ]
     },
     "execution_count": 301,
     "metadata": {},
     "output_type": "execute_result"
    }
   ],
   "source": [
    "Matrix2 = np.array([[1],[2]])\n",
    "mypinv(Matrix2)"
   ]
  },
  {
   "cell_type": "markdown",
   "id": "f8edf49e",
   "metadata": {},
   "source": [
    "La pseudoinversa de la tercera matriz de $2.b$ esta dada por:"
   ]
  },
  {
   "cell_type": "code",
   "execution_count": 302,
   "id": "56db4ebb",
   "metadata": {},
   "outputs": [
    {
     "data": {
      "text/plain": [
       "array([[0.06666667, 0.13333333],\n",
       "       [0.06666667, 0.13333333],\n",
       "       [0.06666667, 0.13333333]])"
      ]
     },
     "execution_count": 302,
     "metadata": {},
     "output_type": "execute_result"
    }
   ],
   "source": [
    "Matrix3 = np.array([[1,1,1],[2,2,2]])\n",
    "mypinv(Matrix3)"
   ]
  }
 ],
 "metadata": {
  "kernelspec": {
   "display_name": "Python 3",
   "language": "python",
   "name": "python3"
  },
  "language_info": {
   "codemirror_mode": {
    "name": "ipython",
    "version": 3
   },
   "file_extension": ".py",
   "mimetype": "text/x-python",
   "name": "python",
   "nbconvert_exporter": "python",
   "pygments_lexer": "ipython3",
   "version": "3.9.1"
  }
 },
 "nbformat": 4,
 "nbformat_minor": 5
}
