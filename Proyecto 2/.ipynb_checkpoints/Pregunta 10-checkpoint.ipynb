{
 "cells": [
  {
   "cell_type": "markdown",
   "id": "e77b9f8b",
   "metadata": {},
   "source": [
    "# Pregunta 10"
   ]
  },
  {
   "cell_type": "markdown",
   "id": "9b93b005",
   "metadata": {},
   "source": [
    "Primero, se define la función symmetric_mat($n$) que calcula matrices aleatorias de tamaño $n$."
   ]
  },
  {
   "cell_type": "code",
   "execution_count": 1,
   "id": "39bf81cc",
   "metadata": {},
   "outputs": [],
   "source": [
    "import numpy as np\n",
    "import numpy.linalg as linalg\n",
    "import matplotlib.pyplot as plt\n",
    "from numpy import linalg as la\n",
    "\n",
    "def symmetric_mat(n): #n es el tamaño de la matriz cuadrada\n",
    "    M=np.random.rand(n,n)\n",
    "    return (M+M.transpose())/2"
   ]
  },
  {
   "cell_type": "markdown",
   "id": "c7546bac",
   "metadata": {},
   "source": [
    "Se inserta un pequeño ejemplo, para observar como se desarrolla la función."
   ]
  },
  {
   "cell_type": "code",
   "execution_count": 13,
   "id": "e4b50af7",
   "metadata": {},
   "outputs": [
    {
     "data": {
      "text/plain": [
       "array([[0.86156176, 0.17933462, 0.4986591 , 0.20830089],\n",
       "       [0.17933462, 0.97764917, 0.53563938, 0.64153645],\n",
       "       [0.4986591 , 0.53563938, 0.15261126, 0.21448443],\n",
       "       [0.20830089, 0.64153645, 0.21448443, 0.39622475]])"
      ]
     },
     "execution_count": 13,
     "metadata": {},
     "output_type": "execute_result"
    }
   ],
   "source": [
    "symmetric_mat(4)"
   ]
  },
  {
   "cell_type": "markdown",
   "id": "59c8b63b",
   "metadata": {},
   "source": [
    "Luego, se definirá la función non_singular_mat($n$) que calcula una matriz invertible de tamaño $n$. Por la hint dada, se tiene que tenemos que transformarla en una matriz estrictamente dominante, pues esta es invertible. Para ello, se definirá la funcion generate_random_row($i,n$) el cual generara una fila que cumpla la condición de las matrices diagonalmente dominantes."
   ]
  },
  {
   "cell_type": "code",
   "execution_count": 42,
   "id": "ed3818bb",
   "metadata": {},
   "outputs": [],
   "source": [
    "def generate_random_row(i,n): #funcion generadora de vector fila aleatorio\n",
    "    M=np.random.rand(1,n)\n",
    "    while M[0,i] <= np.sum(M)-M[0,i]: # negacion condicion necesaria para que sea diagonal dominante\n",
    "        M=np.random.rand(1,n)\n",
    "    return M\n",
    "        \n",
    "def non_singular_mat(n): #n es el tamaño de la matriz cuadrada\n",
    "    M=np.random.rand(n,n)\n",
    "    for i in range(0,n):\n",
    "        diag=abs(M[i,i]) #valor de la matriz en (i,i)\n",
    "        sum_value_nd=np.sum(abs(M[i]))-diag #suma de los valores absolutos de los elementos no diagonales\n",
    "        if (diag <= sum_value_nd): # si no cumple la condicion necesaria, entonces\n",
    "            M[i]=generate_random_row(i,n) #se genera una fila que si la cumpla\n",
    "    return M"
   ]
  },
  {
   "cell_type": "markdown",
   "id": "4694a132",
   "metadata": {},
   "source": [
    "Se inserta un pequeño ejemplo, para observar como se desarrolla la función."
   ]
  },
  {
   "cell_type": "code",
   "execution_count": 43,
   "id": "63fc6aab",
   "metadata": {},
   "outputs": [
    {
     "data": {
      "text/plain": [
       "array([[0.8926759 , 0.10768252, 0.61918433, 0.1500513 ],\n",
       "       [0.41401145, 0.73385808, 0.06150855, 0.23206939],\n",
       "       [0.04161511, 0.18438624, 0.87888234, 0.51867899],\n",
       "       [0.21045798, 0.28073365, 0.26313309, 0.98156896]])"
      ]
     },
     "execution_count": 43,
     "metadata": {},
     "output_type": "execute_result"
    }
   ],
   "source": [
    "non_singular_mat(4)"
   ]
  },
  {
   "cell_type": "markdown",
   "id": "8b30784f",
   "metadata": {},
   "source": [
    "Luego, se definirá la función tri_mat($n$) que calcula una matriz triangular superior invertible de tamaño $n$. Para que esta matriz sea invertible, los valores diagonales tienen que ser distinto de cero y se tiene que cumplir $i\\geq j$ donde $i,j$ detemnin la posicion de la matriz $M, m_{i,j}$"
   ]
  },
  {
   "cell_type": "code",
   "execution_count": 6,
   "id": "abc5e28f",
   "metadata": {},
   "outputs": [],
   "source": [
    "def tri_mat(n):\n",
    "    M=np.random.rand(n,n)\n",
    "    for i in range(0,n):\n",
    "        for j in range(0,n):\n",
    "            if i>j:\n",
    "                M[i,j]=0  # condicion necesario para que sea triangular superior\n",
    "        while M[i,i]==0: #condicion necesaria para que sea invertible\n",
    "            M[i,i]=np.random.rand(1,1)\n",
    "    return M"
   ]
  },
  {
   "cell_type": "markdown",
   "id": "e9889cf3",
   "metadata": {},
   "source": [
    "Se inserta un pequeño ejemplo, para observar como se desarrolla la función."
   ]
  },
  {
   "cell_type": "code",
   "execution_count": 16,
   "id": "a64aa162",
   "metadata": {},
   "outputs": [
    {
     "data": {
      "text/plain": [
       "array([[0.20161551, 0.41167222, 0.99528617, 0.46149037],\n",
       "       [0.        , 0.42685776, 0.14138172, 0.0973659 ],\n",
       "       [0.        , 0.        , 0.05318077, 0.48742112],\n",
       "       [0.        , 0.        , 0.        , 0.04661739]])"
      ]
     },
     "execution_count": 16,
     "metadata": {},
     "output_type": "execute_result"
    }
   ],
   "source": [
    "tri_mat(4)"
   ]
  }
 ],
 "metadata": {
  "kernelspec": {
   "display_name": "Python 3",
   "language": "python",
   "name": "python3"
  },
  "language_info": {
   "codemirror_mode": {
    "name": "ipython",
    "version": 3
   },
   "file_extension": ".py",
   "mimetype": "text/x-python",
   "name": "python",
   "nbconvert_exporter": "python",
   "pygments_lexer": "ipython3",
   "version": "3.9.1"
  }
 },
 "nbformat": 4,
 "nbformat_minor": 5
}
