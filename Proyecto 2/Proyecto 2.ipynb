{
 "cells": [
  {
   "cell_type": "markdown",
   "id": "blond-syntax",
   "metadata": {},
   "source": [
    "# Problema 6"
   ]
  },
  {
   "cell_type": "code",
   "execution_count": 1,
   "id": "amazing-beverage",
   "metadata": {},
   "outputs": [],
   "source": [
    "import numpy as np\n",
    "from timeit import default_timer\n",
    "import matplotlib.pyplot as plt\n",
    "\n",
    "def steepest_descent(A, b, x, tol= 1e-10, max_iter = False):\n",
    "\n",
    "    x_k = x\n",
    "    r_k = b - A @ x_k\n",
    "    k = 0\n",
    "\n",
    "    while np.linalg.norm(r_k) > tol :\n",
    "\n",
    "        t_k = (r_k.T @ r_k) / (r_k.T @ A @ r_k)\n",
    "        x_k = x_k + t_k * r_k\n",
    "        r_k = r_k - t_k * A @ r_k\n",
    "        \n",
    "        if max_iter != False and k == max_iter:\n",
    "            return Steepest_vector(x_k, k, r_k)\n",
    "\n",
    "        k += 1\n",
    "\n",
    "    return x_k, k, r_k"
   ]
  },
  {
   "cell_type": "markdown",
   "id": "becoming-baltimore",
   "metadata": {},
   "source": [
    "# Pregunta 9"
   ]
  },
  {
   "cell_type": "markdown",
   "id": "congressional-delaware",
   "metadata": {},
   "source": [
    "Mediante la entrada de una matriz $M$, se escribio la funcion mypinv, la cual entrega la inversa de Moore Penrose de M a traves de la descomposición de valores singulares. Para solucionar el problema del error del punto flotante, se redondeo los valores de las matriz diagonal $S$ en 10 cifras, para evitar errores en el producto de la función."
   ]
  },
  {
   "cell_type": "code",
   "execution_count": 2,
   "id": "broadband-narrative",
   "metadata": {},
   "outputs": [],
   "source": [
    "import numpy as np\n",
    "import numpy.linalg as linalg\n",
    "import matplotlib.pyplot as plt\n",
    "from numpy import linalg as la\n",
    "\n",
    "def mypinv(M):\n",
    "    #Se utiliza el comando SVD para obtener la descomposición SVD.\n",
    "    U, S, V = linalg.svd(M, full_matrices=True)\n",
    "    #Se creo una matriz nula de la misma dimension de la matriz M.\n",
    "    smat = np.zeros(M.shape)\n",
    "    #Los valores diagonales se llenan con los valores entregados en la matriz S de la SVD de M.\n",
    "    for i in range(0, smat.shape[0]):\n",
    "        for j in range(0, smat.shape[1]):\n",
    "            if i==j:\n",
    "                # Se redondea los valores diagonales de la matriz S para evitar el error del punto flotante.\n",
    "                S[i] = round(S[i],12)\n",
    "                if S[i]==0:\n",
    "                    smat[i,i]=0\n",
    "                else:\n",
    "                    smat[i,i]=1/S[i]\n",
    "    #Finalmente, obtenemos la inversa generalizada mediante el siguiente producto.                \n",
    "    return V.transpose() @ smat.transpose() @ U.transpose()"
   ]
  },
  {
   "cell_type": "markdown",
   "id": "warming-plaintiff",
   "metadata": {},
   "source": [
    "La pseudoinversa de la primera matriz de $2.b$ esta dada por:"
   ]
  },
  {
   "cell_type": "code",
   "execution_count": 3,
   "id": "detailed-victoria",
   "metadata": {},
   "outputs": [
    {
     "data": {
      "text/plain": [
       "array([[0.5, 0. ],\n",
       "       [0.5, 0. ]])"
      ]
     },
     "execution_count": 3,
     "metadata": {},
     "output_type": "execute_result"
    }
   ],
   "source": [
    "Matrix1 = np.array([[1,1],[0,0]])\n",
    "mypinv(Matrix1)"
   ]
  },
  {
   "cell_type": "markdown",
   "id": "heavy-copyright",
   "metadata": {},
   "source": [
    "La pseudoinversa de la segunda matriz de $2.b$ esta dada por:"
   ]
  },
  {
   "cell_type": "code",
   "execution_count": 4,
   "id": "attached-cleveland",
   "metadata": {},
   "outputs": [
    {
     "data": {
      "text/plain": [
       "array([[0.2, 0.4]])"
      ]
     },
     "execution_count": 4,
     "metadata": {},
     "output_type": "execute_result"
    }
   ],
   "source": [
    "Matrix2 = np.array([[1],[2]])\n",
    "mypinv(Matrix2)"
   ]
  },
  {
   "cell_type": "markdown",
   "id": "adapted-indie",
   "metadata": {},
   "source": [
    "La pseudoinversa de la tercera matriz de $2.b$ esta dada por:"
   ]
  },
  {
   "cell_type": "code",
   "execution_count": 5,
   "id": "brazilian-column",
   "metadata": {},
   "outputs": [
    {
     "data": {
      "text/plain": [
       "array([[0.06666667, 0.13333333],\n",
       "       [0.06666667, 0.13333333],\n",
       "       [0.06666667, 0.13333333]])"
      ]
     },
     "execution_count": 5,
     "metadata": {},
     "output_type": "execute_result"
    }
   ],
   "source": [
    "Matrix3 = np.array([[1,1,1],[2,2,2]])\n",
    "mypinv(Matrix3)"
   ]
  },
  {
   "cell_type": "markdown",
   "id": "expressed-meter",
   "metadata": {},
   "source": [
    "# Pregunta 10"
   ]
  },
  {
   "cell_type": "markdown",
   "id": "present-square",
   "metadata": {},
   "source": [
    "Primero, se define la función symmetric_mat($n$) que calcula matrices aleatorias de tamaño $n$."
   ]
  },
  {
   "cell_type": "code",
   "execution_count": 6,
   "id": "golden-mailing",
   "metadata": {},
   "outputs": [],
   "source": [
    "import numpy as np\n",
    "import numpy.linalg as linalg\n",
    "import matplotlib.pyplot as plt\n",
    "from numpy import linalg as la\n",
    "\n",
    "def symmetric_mat(n): #n es el tamaño de la matriz cuadrada\n",
    "    M=np.random.rand(n,n)\n",
    "    return (M+M.transpose())/2"
   ]
  },
  {
   "cell_type": "markdown",
   "id": "immune-majority",
   "metadata": {},
   "source": [
    "Se inserta un pequeño ejemplo, para observar como se desarrolla la función."
   ]
  },
  {
   "cell_type": "code",
   "execution_count": 7,
   "id": "serious-providence",
   "metadata": {},
   "outputs": [
    {
     "data": {
      "text/plain": [
       "array([[0.10721545, 0.87805825, 0.12639324, 0.52379395],\n",
       "       [0.87805825, 0.26962966, 0.84754715, 0.52770637],\n",
       "       [0.12639324, 0.84754715, 0.35828772, 0.59715758],\n",
       "       [0.52379395, 0.52770637, 0.59715758, 0.29913936]])"
      ]
     },
     "execution_count": 7,
     "metadata": {},
     "output_type": "execute_result"
    }
   ],
   "source": [
    "symmetric_mat(4)"
   ]
  },
  {
   "cell_type": "markdown",
   "id": "consecutive-intermediate",
   "metadata": {},
   "source": [
    "Luego, se definirá la función non_singular_mat($n$) que calcula una matriz invertible de tamaño $n$. Por la hint dada, se tiene que tenemos que transformarla en una matriz estrictamente dominante, pues esta es invertible. Para ello, se definirá la funcion generate_random_row($i,n$) el cual generara una fila que cumpla la condición de las matrices diagonalmente dominantes."
   ]
  },
  {
   "cell_type": "code",
   "execution_count": 8,
   "id": "inclusive-narrative",
   "metadata": {},
   "outputs": [],
   "source": [
    "def generate_random_row(i,n): #funcion generadora de vector fila aleatorio\n",
    "    M=np.random.rand(1,n)\n",
    "    while M[0,i] <= np.sum(M)-M[0,i]: # negacion condicion necesaria para que sea diagonal dominante\n",
    "        M=np.random.rand(1,n)\n",
    "    return M\n",
    "        \n",
    "def non_singular_mat(n): #n es el tamaño de la matriz cuadrada\n",
    "    M=np.random.rand(n,n)\n",
    "    for i in range(0,n):\n",
    "        diag=abs(M[i,i]) #valor de la matriz en (i,i)\n",
    "        sum_value_nd=np.sum(abs(M[i]))-diag #suma de los valores absolutos de los elementos no diagonales\n",
    "        if (diag <= sum_value_nd): # si no cumple la condicion necesaria, entonces\n",
    "            M[i]=generate_random_row(i,n) #se genera una fila que si la cumpla\n",
    "    return M"
   ]
  },
  {
   "cell_type": "markdown",
   "id": "relevant-money",
   "metadata": {},
   "source": [
    "Se inserta un pequeño ejemplo, para observar como se desarrolla la función."
   ]
  },
  {
   "cell_type": "code",
   "execution_count": 9,
   "id": "adjustable-vegetable",
   "metadata": {},
   "outputs": [
    {
     "data": {
      "text/plain": [
       "array([[0.82948648, 0.12385127, 0.47298869, 0.10286567],\n",
       "       [0.63340476, 0.78505257, 0.03285031, 0.05472146],\n",
       "       [0.36285358, 0.01942809, 0.9578427 , 0.2863357 ],\n",
       "       [0.04432076, 0.0130864 , 0.61904677, 0.9612981 ]])"
      ]
     },
     "execution_count": 9,
     "metadata": {},
     "output_type": "execute_result"
    }
   ],
   "source": [
    "non_singular_mat(4)"
   ]
  },
  {
   "cell_type": "markdown",
   "id": "judicial-better",
   "metadata": {},
   "source": [
    "Luego, se definirá la función tri_mat($n$) que calcula una matriz triangular superior invertible de tamaño $n$. Para que esta matriz sea invertible, los valores diagonales tienen que ser distinto de cero y se tiene que cumplir $i\\geq j$ donde $i,j$ detemnin la posicion de la matriz $M, m_{i,j}$"
   ]
  },
  {
   "cell_type": "code",
   "execution_count": 10,
   "id": "imperial-marketplace",
   "metadata": {},
   "outputs": [],
   "source": [
    "def tri_mat(n):\n",
    "    M=np.random.rand(n,n)\n",
    "    for i in range(0,n):\n",
    "        for j in range(0,n):\n",
    "            if i>j:\n",
    "                M[i,j]=0  # condicion necesario para que sea triangular superior\n",
    "        while M[i,i]==0: #condicion necesaria para que sea invertible\n",
    "            M[i,i]=np.random.rand(1,1)\n",
    "    return M"
   ]
  },
  {
   "cell_type": "markdown",
   "id": "athletic-boxing",
   "metadata": {},
   "source": [
    "Se inserta un pequeño ejemplo, para observar como se desarrolla la función."
   ]
  },
  {
   "cell_type": "code",
   "execution_count": 11,
   "id": "dress-portable",
   "metadata": {},
   "outputs": [
    {
     "data": {
      "text/plain": [
       "array([[0.2649947 , 0.12606384, 0.47917281, 0.37072674],\n",
       "       [0.        , 0.42350861, 0.04035041, 0.5437707 ],\n",
       "       [0.        , 0.        , 0.2663676 , 0.48428795],\n",
       "       [0.        , 0.        , 0.        , 0.37366784]])"
      ]
     },
     "execution_count": 11,
     "metadata": {},
     "output_type": "execute_result"
    }
   ],
   "source": [
    "tri_mat(4)"
   ]
  },
  {
   "cell_type": "markdown",
   "id": "unauthorized-dryer",
   "metadata": {},
   "source": [
    "# Problema 11"
   ]
  },
  {
   "cell_type": "code",
   "execution_count": 12,
   "id": "wooden-warren",
   "metadata": {},
   "outputs": [],
   "source": [
    "def my_gc(A,x,b,C,tol = 1e-5,maxiter = 1000):\n",
    "    x=np.copy(x)\n",
    "    r=b - A@x\n",
    "    w=np.linalg.solve(C,r) # Calcula w=inv(C)*r. w=w0\n",
    "    v=np.linalg.solve(C.T,w) # Calcula v=inv(transpose(C))*w. v=v0\n",
    "    alfa=np.linalg.norm(w)**2\n",
    "    k=0\n",
    "    \n",
    "    while k<=maxiter:\n",
    "        if np.linalg.norm(v)<=tol:\n",
    "            break\n",
    "        u=A@v # u=Av_k\n",
    "        t=alfa/(u.T@v) # t=t_k\n",
    "        x+=t*v # x=x_k\n",
    "        r-=t*u # r=r_k\n",
    "        w=np.linalg.solve(C.T,r) # w=w_k\n",
    "        beta=np.linalg.norm(w)**2 # beta=inner(w_k,w_k)\n",
    "        if beta<tol:\n",
    "            if np.linalg.norm(r)<tol:\n",
    "                break\n",
    "        s=beta/alfa #s=s_k\n",
    "        v=np.linalg.solve(C.T,w)+s*v # Update v=v_(k+1)\n",
    "        alfa=beta # Update alfa\n",
    "        k+=1 # Update k\n",
    "        \n",
    "    if k>maxiter:\n",
    "        return False\n",
    "        \n",
    "    return x, r, k"
   ]
  },
  {
   "cell_type": "markdown",
   "id": "average-florida",
   "metadata": {},
   "source": [
    "## a)"
   ]
  },
  {
   "cell_type": "code",
   "execution_count": 13,
   "id": "enclosed-hayes",
   "metadata": {},
   "outputs": [],
   "source": [
    "def mat2(n, tau):\n",
    "    A = np.random.rand(n,n)*2-1\n",
    "    A = (A + A.T)/2\n",
    "    A[ np.abs(A) > tau] = 0\n",
    "    A[np.eye(n) == 1] = 1\n",
    "    return A"
   ]
  },
  {
   "cell_type": "markdown",
   "id": "organizational-identity",
   "metadata": {},
   "source": [
    "## b)"
   ]
  },
  {
   "cell_type": "code",
   "execution_count": 14,
   "id": "racial-karaoke",
   "metadata": {},
   "outputs": [],
   "source": [
    "def test_b_v1():\n",
    "    times_gc = []\n",
    "    times_np = []\n",
    "    \n",
    "    for n in range(100, 501):\n",
    "        \n",
    "        A = mat2(n, 0.05)\n",
    "        b = (np.random.rand(n).T*2-1).reshape((n,1))\n",
    "        \n",
    "        start = default_timer()\n",
    "        np.linalg.solve(A,b)\n",
    "        end = default_timer()\n",
    "        times_np.append(end-start)\n",
    "        \n",
    "        x_0 = np.ones((n,1))\n",
    "        I = np.eye(n)\n",
    "        \n",
    "        start = default_timer()\n",
    "        my_gc(A, x_0, b, I, 1e-12, n)\n",
    "        end = default_timer()\n",
    "        times_gc.append(end-start)\n",
    "    return times_gc, times_np"
   ]
  },
  {
   "cell_type": "code",
   "execution_count": 15,
   "id": "peripheral-leone",
   "metadata": {},
   "outputs": [],
   "source": [
    "cg_times, np_times = test_b_v1()\n",
    "cg_times = np.array(cg_times).reshape((401, 1))\n",
    "np_times = np.array(np_times).reshape((401, 1))"
   ]
  },
  {
   "cell_type": "code",
   "execution_count": 16,
   "id": "statistical-interim",
   "metadata": {},
   "outputs": [
    {
     "data": {
      "image/png": "[encoded data removed]",
      "text/plain": [
       "<Figure size 720x360 with 1 Axes>"
      ]
     },
     "metadata": {
      "needs_background": "light"
     },
     "output_type": "display_data"
    }
   ],
   "source": [
    "N = np.array([i for i in range(100, 501)]).reshape((401,1))\n",
    "plt.figure(figsize = (10,5))\n",
    "plt.loglog(N, cg_times, label= \"Conjugate Gradient\")\n",
    "plt.loglog(N, np_times, label = \"Numpy Solver\")\n",
    "plt.xlabel(\"Dimensión n\")\n",
    "plt.ylabel(\"Tiempo\")\n",
    "plt.legend()\n",
    "plt.show()"
   ]
  },
  {
   "cell_type": "code",
   "execution_count": 17,
   "id": "surprised-anatomy",
   "metadata": {},
   "outputs": [],
   "source": [
    "def test_b_v2():\n",
    "    times_gc = []\n",
    "    times_np = []\n",
    "    \n",
    "    for n in range(100, 501):\n",
    "        \n",
    "        A = mat2(n, 0.05)\n",
    "        b = (np.random.rand(n).T*2-1).reshape((n,1))\n",
    "        \n",
    "        x_0 = np.ones((n,1))\n",
    "        I = np.eye(n)\n",
    "        \n",
    "        start = default_timer()\n",
    "        my_gc(A, x_0, b, I, 1e-12, n)\n",
    "        end = default_timer()\n",
    "        times_gc.append(end-start)\n",
    "        \n",
    "        start = default_timer()\n",
    "        np.linalg.solve(A,b)\n",
    "        end = default_timer()\n",
    "        times_np.append(end-start)\n",
    "        \n",
    "    return times_gc, times_np"
   ]
  },
  {
   "cell_type": "code",
   "execution_count": 18,
   "id": "false-shelf",
   "metadata": {},
   "outputs": [],
   "source": [
    "cg_times, np_times = test_b_v2()\n",
    "cg_times = np.array(cg_times).reshape((401, 1))\n",
    "np_times = np.array(np_times).reshape((401, 1))"
   ]
  },
  {
   "cell_type": "code",
   "execution_count": 19,
   "id": "representative-musician",
   "metadata": {},
   "outputs": [
    {
     "data": {
      "image/png": "[encoded data removed]",
      "text/plain": [
       "<Figure size 720x360 with 1 Axes>"
      ]
     },
     "metadata": {
      "needs_background": "light"
     },
     "output_type": "display_data"
    }
   ],
   "source": [
    "N = np.array([i for i in range(100, 501)]).reshape((401,1))\n",
    "plt.figure(figsize = (10,5))\n",
    "plt.loglog(N, cg_times, label= \"Conjugate Gradient\")\n",
    "plt.loglog(N, np_times, label = \"Numpy Solver\")\n",
    "plt.xlabel(\"Dimensión n\")\n",
    "plt.ylabel(\"Tiempo\")\n",
    "plt.legend()\n",
    "plt.show()"
   ]
  }
 ],
 "metadata": {
  "kernelspec": {
   "display_name": "Python 3",
   "language": "python",
   "name": "python3"
  },
  "language_info": {
   "codemirror_mode": {
    "name": "ipython",
    "version": 3
   },
   "file_extension": ".py",
   "mimetype": "text/x-python",
   "name": "python",
   "nbconvert_exporter": "python",
   "pygments_lexer": "ipython3",
   "version": "3.7.8"
  }
 },
 "nbformat": 4,
 "nbformat_minor": 5
}
