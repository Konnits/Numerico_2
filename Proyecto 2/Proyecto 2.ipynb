{
 "cells": [
  {
   "cell_type": "markdown",
   "id": "wrapped-primary",
   "metadata": {},
   "source": [
    "# Problema 6"
   ]
  },
  {
   "cell_type": "code",
   "execution_count": 1,
   "id": "broadband-means",
   "metadata": {},
   "outputs": [],
   "source": [
    "import numpy as np\n",
    "from timeit import default_timer\n",
    "import matplotlib.pyplot as plt\n",
    "\n",
    "def steepest_descent(A, b, x, tol= 1e-10, max_iter = False):\n",
    "\n",
    "    x_k = x\n",
    "    r_k = b - A @ x_k\n",
    "    k = 0\n",
    "\n",
    "    while np.linalg.norm(r_k) > tol :\n",
    "\n",
    "        t_k = (r_k.T @ r_k) / (r_k.T @ A @ r_k)\n",
    "        x_k = x_k + t_k * r_k\n",
    "        r_k = r_k - t_k * A @ r_k\n",
    "        \n",
    "        if max_iter != False and k == max_iter:\n",
    "            return Steepest_vector(x_k, k, r_k)\n",
    "\n",
    "        k += 1\n",
    "\n",
    "    return x_k, k, r_k"
   ]
  },
  {
   "cell_type": "markdown",
   "id": "hawaiian-anatomy",
   "metadata": {},
   "source": [
    "# Pregunta 9"
   ]
  },
  {
   "cell_type": "markdown",
   "id": "technical-january",
   "metadata": {},
   "source": [
    "Mediante la entrada de una matriz $M$, se escribio la funcion mypinv, la cual entrega la inversa de Moore Penrose de M a traves de la descomposición de valores singulares. Para solucionar el problema del error del punto flotante, se redondeo los valores de las matriz diagonal $S$ en 10 cifras, para evitar errores en el producto de la función."
   ]
  },
  {
   "cell_type": "code",
   "execution_count": 2,
   "id": "portable-chuck",
   "metadata": {},
   "outputs": [],
   "source": [
    "import numpy as np\n",
    "import numpy.linalg as linalg\n",
    "import matplotlib.pyplot as plt\n",
    "from numpy import linalg as la\n",
    "\n",
    "def mypinv(M):\n",
    "    #Se utiliza el comando SVD para obtener la descomposición SVD.\n",
    "    U, S, V = linalg.svd(M, full_matrices=True)\n",
    "    #Se creo una matriz nula de la misma dimension de la matriz M.\n",
    "    smat = np.zeros(M.shape)\n",
    "    #Los valores diagonales se llenan con los valores entregados en la matriz S de la SVD de M.\n",
    "    for i in range(0, smat.shape[0]):\n",
    "        for j in range(0, smat.shape[1]):\n",
    "            if i==j:\n",
    "                # Se redondea los valores diagonales de la matriz S para evitar el error del punto flotante.\n",
    "                S[i] = round(S[i],12)\n",
    "                if S[i]==0:\n",
    "                    smat[i,i]=0\n",
    "                else:\n",
    "                    smat[i,i]=1/S[i]\n",
    "    #Finalmente, obtenemos la inversa generalizada mediante el siguiente producto.                \n",
    "    return V.transpose() @ smat.transpose() @ U.transpose()"
   ]
  },
  {
   "cell_type": "markdown",
   "id": "stock-stranger",
   "metadata": {},
   "source": [
    "La pseudoinversa de la primera matriz de $2.b$ esta dada por:"
   ]
  },
  {
   "cell_type": "code",
   "execution_count": 3,
   "id": "considered-offer",
   "metadata": {},
   "outputs": [
    {
     "data": {
      "text/plain": [
       "array([[0.5, 0. ],\n",
       "       [0.5, 0. ]])"
      ]
     },
     "execution_count": 3,
     "metadata": {},
     "output_type": "execute_result"
    }
   ],
   "source": [
    "Matrix1 = np.array([[1,1],[0,0]])\n",
    "mypinv(Matrix1)"
   ]
  },
  {
   "cell_type": "markdown",
   "id": "instrumental-observer",
   "metadata": {},
   "source": [
    "La pseudoinversa de la segunda matriz de $2.b$ esta dada por:"
   ]
  },
  {
   "cell_type": "code",
   "execution_count": 4,
   "id": "painful-brooklyn",
   "metadata": {},
   "outputs": [
    {
     "data": {
      "text/plain": [
       "array([[0.2, 0.4]])"
      ]
     },
     "execution_count": 4,
     "metadata": {},
     "output_type": "execute_result"
    }
   ],
   "source": [
    "Matrix2 = np.array([[1],[2]])\n",
    "mypinv(Matrix2)"
   ]
  },
  {
   "cell_type": "markdown",
   "id": "working-drive",
   "metadata": {},
   "source": [
    "La pseudoinversa de la tercera matriz de $2.b$ esta dada por:"
   ]
  },
  {
   "cell_type": "code",
   "execution_count": 5,
   "id": "magnetic-nevada",
   "metadata": {},
   "outputs": [
    {
     "data": {
      "text/plain": [
       "array([[0.06666667, 0.13333333],\n",
       "       [0.06666667, 0.13333333],\n",
       "       [0.06666667, 0.13333333]])"
      ]
     },
     "execution_count": 5,
     "metadata": {},
     "output_type": "execute_result"
    }
   ],
   "source": [
    "Matrix3 = np.array([[1,1,1],[2,2,2]])\n",
    "mypinv(Matrix3)"
   ]
  },
  {
   "cell_type": "markdown",
   "id": "cutting-congo",
   "metadata": {},
   "source": [
    "# Pregunta 10"
   ]
  },
  {
   "cell_type": "markdown",
   "id": "neither-injection",
   "metadata": {},
   "source": [
    "Primero, se define la función symmetric_mat($n$) que calcula matrices aleatorias de tamaño $n$."
   ]
  },
  {
   "cell_type": "code",
   "execution_count": 6,
   "id": "monetary-edition",
   "metadata": {},
   "outputs": [],
   "source": [
    "import numpy as np\n",
    "import numpy.linalg as linalg\n",
    "import matplotlib.pyplot as plt\n",
    "from numpy import linalg as la\n",
    "\n",
    "def symmetric_mat(n): #n es el tamaño de la matriz cuadrada\n",
    "    M=np.random.rand(n,n)\n",
    "    return (M+M.transpose())/2"
   ]
  },
  {
   "cell_type": "markdown",
   "id": "conceptual-tucson",
   "metadata": {},
   "source": [
    "Se inserta un pequeño ejemplo, para observar como se desarrolla la función."
   ]
  },
  {
   "cell_type": "code",
   "execution_count": 7,
   "id": "material-preserve",
   "metadata": {},
   "outputs": [
    {
     "data": {
      "text/plain": [
       "array([[0.50572153, 0.85452579, 0.36221352, 0.37465917],\n",
       "       [0.85452579, 0.17789742, 0.53337248, 0.37765893],\n",
       "       [0.36221352, 0.53337248, 0.0848255 , 0.59960254],\n",
       "       [0.37465917, 0.37765893, 0.59960254, 0.48223817]])"
      ]
     },
     "execution_count": 7,
     "metadata": {},
     "output_type": "execute_result"
    }
   ],
   "source": [
    "symmetric_mat(4)"
   ]
  },
  {
   "cell_type": "markdown",
   "id": "turned-building",
   "metadata": {},
   "source": [
    "Luego, se definirá la función non_singular_mat($n$) que calcula una matriz invertible de tamaño $n$. Por la hint dada, se tiene que tenemos que transformarla en una matriz estrictamente dominante, pues esta es invertible. Para ello, se definirá la funcion generate_random_row($i,n$) el cual generara una fila que cumpla la condición de las matrices diagonalmente dominantes."
   ]
  },
  {
   "cell_type": "code",
   "execution_count": 8,
   "id": "heated-header",
   "metadata": {},
   "outputs": [],
   "source": [
    "def generate_random_row(i,n): #funcion generadora de vector fila aleatorio\n",
    "    M=np.random.rand(1,n)\n",
    "    while M[0,i] <= np.sum(M)-M[0,i]: # negacion condicion necesaria para que sea diagonal dominante\n",
    "        M=np.random.rand(1,n)\n",
    "    return M\n",
    "        \n",
    "def non_singular_mat(n): #n es el tamaño de la matriz cuadrada\n",
    "    M=np.random.rand(n,n)\n",
    "    for i in range(0,n):\n",
    "        diag=abs(M[i,i]) #valor de la matriz en (i,i)\n",
    "        sum_value_nd=np.sum(abs(M[i]))-diag #suma de los valores absolutos de los elementos no diagonales\n",
    "        if (diag <= sum_value_nd): # si no cumple la condicion necesaria, entonces\n",
    "            M[i]=generate_random_row(i,n) #se genera una fila que si la cumpla\n",
    "    return M"
   ]
  },
  {
   "cell_type": "markdown",
   "id": "hundred-infrastructure",
   "metadata": {},
   "source": [
    "Se inserta un pequeño ejemplo, para observar como se desarrolla la función."
   ]
  },
  {
   "cell_type": "code",
   "execution_count": 9,
   "id": "noticed-accuracy",
   "metadata": {},
   "outputs": [
    {
     "data": {
      "text/plain": [
       "array([[0.49614879, 0.05048539, 0.28599583, 0.10853916],\n",
       "       [0.03303658, 0.57074886, 0.41651931, 0.05173864],\n",
       "       [0.70286419, 0.03533768, 0.98832172, 0.09289156],\n",
       "       [0.07818465, 0.19983981, 0.2770075 , 0.5687182 ]])"
      ]
     },
     "execution_count": 9,
     "metadata": {},
     "output_type": "execute_result"
    }
   ],
   "source": [
    "non_singular_mat(4)"
   ]
  },
  {
   "cell_type": "markdown",
   "id": "earned-somalia",
   "metadata": {},
   "source": [
    "Luego, se definirá la función tri_mat($n$) que calcula una matriz triangular superior invertible de tamaño $n$. Para que esta matriz sea invertible, los valores diagonales tienen que ser distinto de cero y se tiene que cumplir $i\\geq j$ donde $i,j$ detemnin la posicion de la matriz $M, m_{i,j}$"
   ]
  },
  {
   "cell_type": "code",
   "execution_count": 10,
   "id": "devoted-month",
   "metadata": {},
   "outputs": [],
   "source": [
    "def tri_mat(n):\n",
    "    M=np.random.rand(n,n)\n",
    "    for i in range(0,n):\n",
    "        for j in range(0,n):\n",
    "            if i>j:\n",
    "                M[i,j]=0  # condicion necesario para que sea triangular superior\n",
    "        while M[i,i]==0: #condicion necesaria para que sea invertible\n",
    "            M[i,i]=np.random.rand(1,1)\n",
    "    return M"
   ]
  },
  {
   "cell_type": "markdown",
   "id": "portable-spotlight",
   "metadata": {},
   "source": [
    "Se inserta un pequeño ejemplo, para observar como se desarrolla la función."
   ]
  },
  {
   "cell_type": "code",
   "execution_count": 11,
   "id": "upper-installation",
   "metadata": {},
   "outputs": [
    {
     "data": {
      "text/plain": [
       "array([[0.67873143, 0.12229954, 0.21599151, 0.41164892],\n",
       "       [0.        , 0.91561183, 0.53233194, 0.50353131],\n",
       "       [0.        , 0.        , 0.24970802, 0.52129516],\n",
       "       [0.        , 0.        , 0.        , 0.03908804]])"
      ]
     },
     "execution_count": 11,
     "metadata": {},
     "output_type": "execute_result"
    }
   ],
   "source": [
    "tri_mat(4)"
   ]
  },
  {
   "cell_type": "markdown",
   "id": "prospective-nickel",
   "metadata": {},
   "source": [
    "# Problema 11"
   ]
  },
  {
   "cell_type": "code",
   "execution_count": 12,
   "id": "recent-boutique",
   "metadata": {},
   "outputs": [],
   "source": [
    "def my_gc(A,x,b,C,tol = 1e-5,maxiter = 1000):\n",
    "    x=np.copy(x)\n",
    "    r=b - A@x\n",
    "    w=np.linalg.solve(C,r) # Calcula w=inv(C)*r. w=w0\n",
    "    v=np.linalg.solve(C.T,w) # Calcula v=inv(transpose(C))*w. v=v0\n",
    "    alfa=np.linalg.norm(w)**2\n",
    "    k=0\n",
    "    \n",
    "    while k<=maxiter:\n",
    "        if np.linalg.norm(v)<=tol:\n",
    "            break\n",
    "        u=A@v # u=Av_k\n",
    "        t=alfa/(u.T@v) # t=t_k\n",
    "        x+=t*v # x=x_k\n",
    "        r-=t*u # r=r_k\n",
    "        w=np.linalg.solve(C.T,r) # w=w_k\n",
    "        beta=np.linalg.norm(w)**2 # beta=inner(w_k,w_k)\n",
    "        if beta<tol:\n",
    "            if np.linalg.norm(r)<tol:\n",
    "                break\n",
    "        s=beta/alfa #s=s_k\n",
    "        v=np.linalg.solve(C.T,w)+s*v # Update v=v_(k+1)\n",
    "        alfa=beta # Update alfa\n",
    "        k+=1 # Update k\n",
    "        \n",
    "    if k>maxiter:\n",
    "        return False\n",
    "        \n",
    "    return x, r, k"
   ]
  },
  {
   "cell_type": "markdown",
   "id": "favorite-editing",
   "metadata": {},
   "source": [
    "## a)"
   ]
  },
  {
   "cell_type": "code",
   "execution_count": 13,
   "id": "dried-latino",
   "metadata": {},
   "outputs": [],
   "source": [
    "def mat2(n, tau):\n",
    "    A = np.random.rand(n,n)*2-1\n",
    "    A = (A + A.T)/2\n",
    "    A[ np.abs(A) > tau] = 0\n",
    "    A[np.eye(n) == 1] = 1\n",
    "    return A"
   ]
  },
  {
   "cell_type": "markdown",
   "id": "romantic-oakland",
   "metadata": {},
   "source": [
    "## b)"
   ]
  },
  {
   "cell_type": "code",
   "execution_count": 14,
   "id": "crazy-myanmar",
   "metadata": {},
   "outputs": [],
   "source": [
    "def test_b():\n",
    "    times_gc = []\n",
    "    times_np = []\n",
    "    \n",
    "    for n in range(100, 501):\n",
    "        \n",
    "        A = mat2(n, 0.05)\n",
    "        b = (np.random.rand(n).T*2-1).reshape((n,1))\n",
    "        \n",
    "        start = default_timer()\n",
    "        np.linalg.solve(A,b)\n",
    "        end = default_timer()\n",
    "        times_np.append(end-start)\n",
    "        \n",
    "        x_0 = np.ones((n,1))\n",
    "        I = np.eye(n)\n",
    "        \n",
    "        start = default_timer()\n",
    "        my_gc(A, x_0, b, I, 1e-12, n)\n",
    "        end = default_timer()\n",
    "        times_gc.append(end-start)\n",
    "    return times_gc, times_np"
   ]
  },
  {
   "cell_type": "code",
   "execution_count": 15,
   "id": "champion-series",
   "metadata": {},
   "outputs": [],
   "source": [
    "cg_times, np_times = test_b()\n",
    "cg_times = np.array(cg_times).reshape((401, 1))\n",
    "np_times = np.array(np_times).reshape((401, 1))"
   ]
  },
  {
   "cell_type": "code",
   "execution_count": 16,
   "id": "alone-birth",
   "metadata": {},
   "outputs": [
    {
     "data": {
      "image/png": "[encoded data removed]",
      "text/plain": [
       "<Figure size 720x360 with 1 Axes>"
      ]
     },
     "metadata": {
      "needs_background": "light"
     },
     "output_type": "display_data"
    }
   ],
   "source": [
    "N = np.array([i for i in range(100, 501)]).reshape((401,1))\n",
    "plt.figure(figsize = (10,5))\n",
    "plt.loglog(N, cg_times, label= \"Conjugate Gradient\")\n",
    "plt.loglog(N, np_times, label = \"Numpy Solver\")\n",
    "plt.xlabel(\"Dimensión n\")\n",
    "plt.ylabel(\"Tiempo\")\n",
    "plt.legend()\n",
    "plt.show()"
   ]
  },
  {
   "cell_type": "markdown",
   "id": "first-criminal",
   "metadata": {},
   "source": [
    "Se observa que numpy tiene mejores tiempos que el algoritmo del gradiente conjugado. "
   ]
  },
  {
   "cell_type": "markdown",
   "id": "senior-appearance",
   "metadata": {},
   "source": [
    "## c)"
   ]
  },
  {
   "cell_type": "code",
   "execution_count": 17,
   "id": "reflected-moral",
   "metadata": {},
   "outputs": [],
   "source": [
    "def test_c():\n",
    "    r_s = []\n",
    "    tau = [0.2, 0.1, 0.05, 0.01]\n",
    "    x_0 = np.ones((500,1))\n",
    "    I = np.eye(500)\n",
    "    \n",
    "    for t in tau:\n",
    "        A = mat2(500, t)\n",
    "        b = (np.random.rand(500).T*2-1).reshape((500,1))\n",
    "        _, r, _ = my_gc(A, x_0, b, I, 1e-12, 10000)\n",
    "        r_s.append(np.linalg.norm(r))\n",
    "    return r_s, tau"
   ]
  },
  {
   "cell_type": "code",
   "execution_count": 18,
   "id": "marked-scout",
   "metadata": {},
   "outputs": [],
   "source": [
    "r_s, tau = test_c()"
   ]
  },
  {
   "cell_type": "code",
   "execution_count": 19,
   "id": "controlling-third",
   "metadata": {},
   "outputs": [
    {
     "data": {
      "image/png": "[encoded data removed]",
      "text/plain": [
       "<Figure size 720x360 with 1 Axes>"
      ]
     },
     "metadata": {
      "needs_background": "light"
     },
     "output_type": "display_data"
    }
   ],
   "source": [
    "plt.figure(figsize = (10,5))\n",
    "plt.semilogy(tau, r_s)\n",
    "plt.xlabel(\"Tau\")\n",
    "plt.ylabel(\"Rest\")\n",
    "plt.show()"
   ]
  },
  {
   "cell_type": "markdown",
   "id": "middle-lodge",
   "metadata": {},
   "source": [
    "Se puede observar un aumento de los restos a medida que Tau aumenta, no son tantos datos como para sacar una conclusión certera, pero nos induce a pensar que a medida que la matriz de input, se diferencia cada vez más de la Identidad, la aproximación del algoritmo es cada vez peor."
   ]
  },
  {
   "cell_type": "markdown",
   "id": "balanced-saturn",
   "metadata": {},
   "source": [
    "# Problema 12"
   ]
  },
  {
   "cell_type": "markdown",
   "id": "exotic-reason",
   "metadata": {},
   "source": [
    "A continuación se modificarán los algoritmos para extraer cada paso de los solver."
   ]
  },
  {
   "cell_type": "code",
   "execution_count": 20,
   "id": "later-problem",
   "metadata": {},
   "outputs": [],
   "source": [
    "def steepest_descent_modify(A, b, x, max_iter):\n",
    "    dist_list = []\n",
    "    k_list = []\n",
    "    x_k = x\n",
    "    r_k = b - A @ x_k\n",
    "    k = 0\n",
    "\n",
    "    while k <= max_iter:\n",
    "\n",
    "        t_k = (r_k.T @ r_k) / (r_k.T @ A @ r_k)\n",
    "        x_k = x_k + t_k * r_k\n",
    "        r_k = r_k - t_k * A @ r_k\n",
    "        \n",
    "        if k != 0:\n",
    "            dist_list.append( np.linalg.norm(b - A @ x_k) )\n",
    "            \n",
    "        k += 1\n",
    "\n",
    "    return dist_list\n",
    "\n",
    "def my_gc_modify(A, x, b, C, maxiter = 1000):\n",
    "    r_k_list = []\n",
    "    dist_list = []\n",
    "    x=np.copy(x)\n",
    "    r=b - A@x\n",
    "    w=np.linalg.solve(C,r) # Calcula w=inv(C)*r. w=w0\n",
    "    v=np.linalg.solve(C.T,w) # Calcula v=inv(transpose(C))*w. v=v0\n",
    "    alfa=np.linalg.norm(w)**2\n",
    "    k=0\n",
    "    \n",
    "    while k<=maxiter:\n",
    "        u=A@v # u=Av_k\n",
    "        t=alfa/(u.T@v) # t=t_k\n",
    "        x+=t*v # x=x_k\n",
    "        r-=t*u # r=r_k\n",
    "        w=np.linalg.solve(C.T,r) # w=w_k\n",
    "        beta=np.linalg.norm(w)**2 # beta=inner(w_k,w_k)\n",
    "        s=beta/alfa #s=s_k\n",
    "        v=np.linalg.solve(C.T,w)+s*v # Update v=v_(k+1)\n",
    "        alfa=beta # Update alfa\n",
    "        \n",
    "        if k != 0:\n",
    "            r_k_list.append( np.linalg.norm(r.T) )\n",
    "            dist_list.append( np.linalg.norm(b - A @ x) )\n",
    "        k+=1 # Update k\n",
    "        \n",
    "    return r_k_list, dist_list"
   ]
  },
  {
   "cell_type": "code",
   "execution_count": 21,
   "id": "raising-ghana",
   "metadata": {},
   "outputs": [],
   "source": [
    "A = np.diag([i for i in range(1,101)])\n",
    "A[: -1, 1 :][np.eye(99) == 1], A[1 :, : -1][np.eye(99) == 1] = 1, 1\n",
    "b = np.ones((100,1))\n",
    "x_0 = np.ones_like(b)\n",
    "I = np.eye(100)\n",
    "K = np.array([i for i in range(1, 101)]).reshape((100,1))"
   ]
  },
  {
   "cell_type": "code",
   "execution_count": 22,
   "id": "neutral-material",
   "metadata": {},
   "outputs": [],
   "source": [
    "dist_st = steepest_descent_modify(A, b, x_0, max_iter = 100)\n",
    "\n",
    "r_gc, dist_gc = my_gc_modify(A, x_0, b, I, 100)\n",
    "k_gc = [2 * (np.sqrt(k) - 1)**100 / (np.sqrt(k) + 1)**100 for k in range(1,101)]"
   ]
  },
  {
   "cell_type": "code",
   "execution_count": 23,
   "id": "double-patio",
   "metadata": {},
   "outputs": [
    {
     "data": {
      "image/png": "[encoded data removed]",
      "text/plain": [
       "<Figure size 1080x720 with 1 Axes>"
      ]
     },
     "metadata": {
      "needs_background": "light"
     },
     "output_type": "display_data"
    }
   ],
   "source": [
    "plt.figure(figsize = (15,10))\n",
    "plt.plot(K, dist_st, label = \"Residual steepest descent\")\n",
    "plt.plot(K, k_gc, label = \"Estimator conjugate gradient\")\n",
    "plt.plot(K, r_gc, label = \"R_k conjugate gradient\", alpha = 0.5)\n",
    "plt.plot(K, dist_gc, label = \"Residual conjugate gradient\", alpha = 0.5)\n",
    "plt.legend()\n",
    "plt.show()"
   ]
  },
  {
   "cell_type": "markdown",
   "id": "valid-treatment",
   "metadata": {},
   "source": [
    "Observamos que se cumple lo teórico de que $r_k$ es igual a $b-x_k$ y además observamos que el método del gradiente conjugado se aproxima más rápido que el médoto con el Steepest Descent."
   ]
  },
  {
   "cell_type": "markdown",
   "id": "rough-england",
   "metadata": {},
   "source": [
    "# Pregunta 13 y 14"
   ]
  },
  {
   "cell_type": "markdown",
   "id": "ready-davis",
   "metadata": {},
   "source": [
    "Primero, se definirá el metodo de las potencias, el cual se utilizará paraobtener el valor y vector dominante de alguna matriz dada."
   ]
  },
  {
   "cell_type": "code",
   "execution_count": 33,
   "id": "worthy-cosmetic",
   "metadata": {},
   "outputs": [],
   "source": [
    "import numpy as np\n",
    "\n",
    "def my_pow(A,x,tol,N):\n",
    "    \n",
    "    lmb = 0. # lambda inicial\n",
    "    k = 0 # contador de iteraciones\n",
    "    err = 1. # error inicial (tomar valor grande)\n",
    "    np.set_printoptions(suppress=True,precision=1000000000)\n",
    "    while k<=N and err>tol:\n",
    "        y = A@x.astype(float)\n",
    "        # normaliza y\n",
    "        indx=np.argmax(np.abs(y))\n",
    "        c1 = y[indx,0].astype(float)\n",
    "        dc = np.abs(lmb-c1)# distancia entre lambda^{(k)} y lambda^{(k+1)}\n",
    "        y = (1/c1)*y\n",
    "        # actualiza x y lambda (check para convergencia)\n",
    "        dv = np.linalg.norm(x-y) # distancia entre V^{(k)} y V^{(k+1)}\n",
    "        err = np.max([dc,dv]) # se toma el maximo de los errores\n",
    "        x = y\n",
    "        lmb=c1\n",
    "        k+=1\n",
    "    v=x.astype(float)\n",
    "    \n",
    "    return lmb,v,err,k"
   ]
  },
  {
   "cell_type": "markdown",
   "id": "brutal-raise",
   "metadata": {},
   "source": [
    "Junto con ello, se escribira la función que generara la matriz pedida en la pregunta 14 inciso b."
   ]
  },
  {
   "cell_type": "code",
   "execution_count": 34,
   "id": "handmade-action",
   "metadata": {},
   "outputs": [
    {
     "name": "stdout",
     "output_type": "stream",
     "text": [
      "[[  2.   2.   3.   4.   5.   6.   7.   8.   9.  10.  11.  12.  13.  14.\n",
      "   15.]\n",
      " [  2.   4.   6.   8.  10.  12.  14.  16.  18.  20.  22.  24.  26.  28.\n",
      "   30.]\n",
      " [  3.   6.   6.  12.  15.  18.  21.  24.  27.  30.  33.  36.  39.  42.\n",
      "   45.]\n",
      " [  4.   8.  12.   8.  20.  24.  28.  32.  36.  40.  44.  48.  52.  56.\n",
      "   60.]\n",
      " [  5.  10.  15.  20.  10.  30.  35.  40.  45.  50.  55.  60.  65.  70.\n",
      "   75.]\n",
      " [  6.  12.  18.  24.  30.  12.  42.  48.  54.  60.  66.  72.  78.  84.\n",
      "   90.]\n",
      " [  7.  14.  21.  28.  35.  42.  14.  56.  63.  70.  77.  84.  91.  98.\n",
      "  105.]\n",
      " [  8.  16.  24.  32.  40.  48.  56.  16.  72.  80.  88.  96. 104. 112.\n",
      "  120.]\n",
      " [  9.  18.  27.  36.  45.  54.  63.  72.  18.  90.  99. 108. 117. 126.\n",
      "  135.]\n",
      " [ 10.  20.  30.  40.  50.  60.  70.  80.  90.  20. 110. 120. 130. 140.\n",
      "  150.]\n",
      " [ 11.  22.  33.  44.  55.  66.  77.  88.  99. 110.  22. 132. 143. 154.\n",
      "  165.]\n",
      " [ 12.  24.  36.  48.  60.  72.  84.  96. 108. 120. 132.  24. 156. 168.\n",
      "  180.]\n",
      " [ 13.  26.  39.  52.  65.  78.  91. 104. 117. 130. 143. 156.  26. 182.\n",
      "  195.]\n",
      " [ 14.  28.  42.  56.  70.  84.  98. 112. 126. 140. 154. 168. 182.  28.\n",
      "  210.]\n",
      " [ 15.  30.  45.  60.  75.  90. 105. 120. 135. 150. 165. 180. 195. 210.\n",
      "   30.]]\n"
     ]
    }
   ],
   "source": [
    "def generate_matriz(n):\n",
    "    Matriz = np.zeros((n,n),dtype=float)\n",
    "    for i in range(0,n):\n",
    "        for j in range(0,n):\n",
    "            if i==j:\n",
    "                Matriz[i,j]=(i+1)+(j+1)\n",
    "            else:\n",
    "                Matriz[i,j]=(i+1)*(j+1)\n",
    "    return Matriz\n",
    "Matriz=generate_matriz(15)\n",
    "print(Matriz)"
   ]
  },
  {
   "cell_type": "markdown",
   "id": "extensive-sucking",
   "metadata": {},
   "source": [
    "Finalmente, se tiene el metodo de deflación Wielandt, el cual mediante la subrutina del metodo de las potencias, se tendran todos los valores y vectores propios."
   ]
  },
  {
   "cell_type": "code",
   "execution_count": null,
   "id": "isolated-enterprise",
   "metadata": {},
   "outputs": [],
   "source": [
    "def deflation(n, A, ei_val, ei_vec, tol, N):\n",
    "    for e in range(len(ei_vec)):\n",
    "        if np.abs(ei_vec[e]) == np.max(abs(ei_vec)):\n",
    "            i = e\n",
    "            break\n",
    "    b = np.zeros((n,n))\n",
    "    if i != 0:\n",
    "        for k in range(i-1):\n",
    "            for j in range(i-1):\n",
    "                b[k,j] = A[k,j]-v[k]*A[i,j]/v[i]\n",
    "    if i != 1 and i != n-1:\n",
    "        for k in range(i, n):\n",
    "            for j in range(1, i):\n",
    "                b[k, j] = a[k+1, j] - v[k+1]*A[i,j]/v[i]\n",
    "                b[j, k] = a[j, k+1] - v[j]*A[i, k+1]/v[i]\n",
    "    if i != n-1:\n",
    "        for k in range(i, n):\n",
    "            for j in range(i, n):\n",
    "                b[k,j] = a[k+1, j+1] - v[k+1]*A[i, j+1]/v[i]\n",
    "    "
   ]
  },
  {
   "cell_type": "code",
   "execution_count": 58,
   "id": "biological-colony",
   "metadata": {},
   "outputs": [],
   "source": [
    "def Deflation(A):\n",
    "    np.set_printoptions(suppress=False,precision=1000000000)\n",
    "    x0 = np.ones((A.shape[0],1))\n",
    "    lamb={}\n",
    "    vec={}\n",
    "    wec={}\n",
    "    err={}\n",
    "    k={}\n",
    "    x={}\n",
    "    Matrix={}\n",
    "    for i in range(1,A.shape[0]+1):\n",
    "        if i==1:\n",
    "            Matrix[i]=A\n",
    "            lamb[i], vec[i], err[i], k[i] = my_pow(Matrix[i],x0,1E-10,100)\n",
    "            #print(lamb[i],\"\\n\\n\", vec[i],\"\\n\\n\")\n",
    "            v=vec[i]\n",
    "            M=Matrix[i]\n",
    "            wec[i]=vec[i]\n",
    "        else:\n",
    "            max=0\n",
    "            x[i] = M[0].transpose()/(lamb[i-1]*v[0])\n",
    "            Matrix[i] = Matrix[i-1]-lamb[i-1]*wec[i-1]@x[i].transpose()\n",
    "            lamb[i], vec[i], err[i], k[i] = my_pow(Matrix[i],x0,1E-10,100)\n",
    "            wec[i] = vec[i]\n",
    "            c=1\n",
    "            d=0\n",
    "            while c<i:\n",
    "                vec[i]=(lamb[i]-lamb[i-c])*vec[i]+lamb[i-c]*wec[i-c]*(x[i-d].transpose()@vec[i])\n",
    "                c=c+1\n",
    "                d=d+1\n",
    "            c=1\n",
    "            d=0\n",
    "            if i!=A.shape[0]:\n",
    "                v=wec[i]\n",
    "                M=Matrix[i]\n",
    "            #print(lamb[i],\"\\n\\n\", vec[i],\"\\n\\n\")"
   ]
  },
  {
   "cell_type": "code",
   "execution_count": 59,
   "id": "aware-standing",
   "metadata": {},
   "outputs": [
    {
     "ename": "ValueError",
     "evalue": "matmul: Input operand 1 has a mismatch in its core dimension 0, with gufunc signature (n?,k),(k,m?)->(n?,m?) (size 15 is different from 1)",
     "output_type": "error",
     "traceback": [
      "\u001b[1;31m---------------------------------------------------------------------------\u001b[0m",
      "\u001b[1;31mValueError\u001b[0m                                Traceback (most recent call last)",
      "\u001b[1;32m<ipython-input-59-ecaea0655ae7>\u001b[0m in \u001b[0;36m<module>\u001b[1;34m\u001b[0m\n\u001b[1;32m----> 1\u001b[1;33m \u001b[0mDeflation\u001b[0m\u001b[1;33m(\u001b[0m\u001b[0mMatriz\u001b[0m\u001b[1;33m)\u001b[0m\u001b[1;33m\u001b[0m\u001b[1;33m\u001b[0m\u001b[0m\n\u001b[0m",
      "\u001b[1;32m<ipython-input-58-5d974fda0a35>\u001b[0m in \u001b[0;36mDeflation\u001b[1;34m(A)\u001b[0m\n\u001b[0;32m     20\u001b[0m             \u001b[0mmax\u001b[0m\u001b[1;33m=\u001b[0m\u001b[1;36m0\u001b[0m\u001b[1;33m\u001b[0m\u001b[1;33m\u001b[0m\u001b[0m\n\u001b[0;32m     21\u001b[0m             \u001b[0mx\u001b[0m\u001b[1;33m[\u001b[0m\u001b[0mi\u001b[0m\u001b[1;33m]\u001b[0m \u001b[1;33m=\u001b[0m \u001b[0mM\u001b[0m\u001b[1;33m[\u001b[0m\u001b[1;36m0\u001b[0m\u001b[1;33m]\u001b[0m\u001b[1;33m.\u001b[0m\u001b[0mtranspose\u001b[0m\u001b[1;33m(\u001b[0m\u001b[1;33m)\u001b[0m\u001b[1;33m/\u001b[0m\u001b[1;33m(\u001b[0m\u001b[0mlamb\u001b[0m\u001b[1;33m[\u001b[0m\u001b[0mi\u001b[0m\u001b[1;33m-\u001b[0m\u001b[1;36m1\u001b[0m\u001b[1;33m]\u001b[0m\u001b[1;33m*\u001b[0m\u001b[0mv\u001b[0m\u001b[1;33m[\u001b[0m\u001b[1;36m0\u001b[0m\u001b[1;33m]\u001b[0m\u001b[1;33m)\u001b[0m\u001b[1;33m\u001b[0m\u001b[1;33m\u001b[0m\u001b[0m\n\u001b[1;32m---> 22\u001b[1;33m             \u001b[0mMatrix\u001b[0m\u001b[1;33m[\u001b[0m\u001b[0mi\u001b[0m\u001b[1;33m]\u001b[0m \u001b[1;33m=\u001b[0m \u001b[0mMatrix\u001b[0m\u001b[1;33m[\u001b[0m\u001b[0mi\u001b[0m\u001b[1;33m-\u001b[0m\u001b[1;36m1\u001b[0m\u001b[1;33m]\u001b[0m\u001b[1;33m-\u001b[0m\u001b[0mlamb\u001b[0m\u001b[1;33m[\u001b[0m\u001b[0mi\u001b[0m\u001b[1;33m-\u001b[0m\u001b[1;36m1\u001b[0m\u001b[1;33m]\u001b[0m\u001b[1;33m*\u001b[0m\u001b[0mwec\u001b[0m\u001b[1;33m[\u001b[0m\u001b[0mi\u001b[0m\u001b[1;33m-\u001b[0m\u001b[1;36m1\u001b[0m\u001b[1;33m]\u001b[0m\u001b[1;33m@\u001b[0m\u001b[0mx\u001b[0m\u001b[1;33m[\u001b[0m\u001b[0mi\u001b[0m\u001b[1;33m]\u001b[0m\u001b[1;33m.\u001b[0m\u001b[0mtranspose\u001b[0m\u001b[1;33m(\u001b[0m\u001b[1;33m)\u001b[0m\u001b[1;33m\u001b[0m\u001b[1;33m\u001b[0m\u001b[0m\n\u001b[0m\u001b[0;32m     23\u001b[0m             \u001b[0mlamb\u001b[0m\u001b[1;33m[\u001b[0m\u001b[0mi\u001b[0m\u001b[1;33m]\u001b[0m\u001b[1;33m,\u001b[0m \u001b[0mvec\u001b[0m\u001b[1;33m[\u001b[0m\u001b[0mi\u001b[0m\u001b[1;33m]\u001b[0m\u001b[1;33m,\u001b[0m \u001b[0merr\u001b[0m\u001b[1;33m[\u001b[0m\u001b[0mi\u001b[0m\u001b[1;33m]\u001b[0m\u001b[1;33m,\u001b[0m \u001b[0mk\u001b[0m\u001b[1;33m[\u001b[0m\u001b[0mi\u001b[0m\u001b[1;33m]\u001b[0m \u001b[1;33m=\u001b[0m \u001b[0mmy_pow\u001b[0m\u001b[1;33m(\u001b[0m\u001b[0mMatrix\u001b[0m\u001b[1;33m[\u001b[0m\u001b[0mi\u001b[0m\u001b[1;33m]\u001b[0m\u001b[1;33m,\u001b[0m\u001b[0mx0\u001b[0m\u001b[1;33m,\u001b[0m\u001b[1;36m1E-10\u001b[0m\u001b[1;33m,\u001b[0m\u001b[1;36m100\u001b[0m\u001b[1;33m)\u001b[0m\u001b[1;33m\u001b[0m\u001b[1;33m\u001b[0m\u001b[0m\n\u001b[0;32m     24\u001b[0m             \u001b[0mwec\u001b[0m\u001b[1;33m[\u001b[0m\u001b[0mi\u001b[0m\u001b[1;33m]\u001b[0m \u001b[1;33m=\u001b[0m \u001b[0mvec\u001b[0m\u001b[1;33m[\u001b[0m\u001b[0mi\u001b[0m\u001b[1;33m]\u001b[0m\u001b[1;33m\u001b[0m\u001b[1;33m\u001b[0m\u001b[0m\n",
      "\u001b[1;31mValueError\u001b[0m: matmul: Input operand 1 has a mismatch in its core dimension 0, with gufunc signature (n?,k),(k,m?)->(n?,m?) (size 15 is different from 1)"
     ]
    }
   ],
   "source": [
    "Deflation(Matriz)"
   ]
  },
  {
   "cell_type": "code",
   "execution_count": 5,
   "id": "handed-dream",
   "metadata": {},
   "outputs": [
    {
     "name": "stdout",
     "output_type": "stream",
     "text": [
      "3.0000000001835807 \n",
      "\n",
      " [[-0.24999999996940317]\n",
      " [ 0.25               ]\n",
      " [ 1.                 ]] \n",
      "\n",
      "\n",
      "1.9999999998776126 \n",
      "\n",
      " [[-2.000000000096269 ]\n",
      " [ 0.9999999999126885]\n",
      " [ 3.9999999997380655]] \n",
      "\n",
      "\n",
      "1.0 \n",
      "\n",
      " [[ 1.0000000001223872]\n",
      " [-0.9999999999999998]\n",
      " [-2.0000000000611933]] \n",
      "\n",
      "\n"
     ]
    }
   ],
   "source": [
    "A1 = np.array([[1,2,-1],\n",
    "            [1,0,1],  \n",
    "            [4,-4,5]])\n",
    "Deflation(A1)"
   ]
  }
 ],
 "metadata": {
  "kernelspec": {
   "display_name": "Python 3",
   "language": "python",
   "name": "python3"
  },
  "language_info": {
   "codemirror_mode": {
    "name": "ipython",
    "version": 3
   },
   "file_extension": ".py",
   "mimetype": "text/x-python",
   "name": "python",
   "nbconvert_exporter": "python",
   "pygments_lexer": "ipython3",
   "version": "3.7.8"
  }
 },
 "nbformat": 4,
 "nbformat_minor": 5
}
